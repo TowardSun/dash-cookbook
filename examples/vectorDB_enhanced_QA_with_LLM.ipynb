{
  "cells": [
    {
      "cell_type": "code",
      "execution_count": 1,
      "id": "04d4165c-fab2-4f54-9b50-11d53917d785",
      "metadata": {
        "ExecutionIndicator": {
          "show": true
        },
        "colab": {
          "base_uri": "https://localhost:8080/"
        },
        "id": "04d4165c-fab2-4f54-9b50-11d53917d785",
        "outputId": "4dc7eb61-39f0-4ea0-a0a7-ba1679af90cd",
        "tags": []
      },
      "outputs": [
        {
          "name": "stdout",
          "output_type": "stream",
          "text": [
            "Collecting dashvector\n",
            "  Downloading dashvector-1.0.1-py3-none-any.whl (91 kB)\n",
            "\u001b[2K     \u001b[90m━━━━━━━━━━━━━━━━━━━━━━━━━━━━━━━━━━━━━━━━\u001b[0m \u001b[32m91.3/91.3 kB\u001b[0m \u001b[31m1.3 MB/s\u001b[0m eta \u001b[36m0:00:00\u001b[0m\n",
            "\u001b[?25hCollecting dashscope\n",
            "  Downloading dashscope-1.7.2-py3-none-any.whl (60 kB)\n",
            "\u001b[2K     \u001b[90m━━━━━━━━━━━━━━━━━━━━━━━━━━━━━━━━━━━━━━━━\u001b[0m \u001b[32m60.0/60.0 kB\u001b[0m \u001b[31m3.8 MB/s\u001b[0m eta \u001b[36m0:00:00\u001b[0m\n",
            "\u001b[?25hRequirement already satisfied: numpy in /usr/local/lib/python3.10/dist-packages (from dashvector) (1.23.5)\n",
            "Requirement already satisfied: protobuf<4.0.0,>=3.8.0 in /usr/local/lib/python3.10/dist-packages (from dashvector) (3.20.3)\n",
            "Requirement already satisfied: aiohttp>=3.1.0 in /usr/local/lib/python3.10/dist-packages (from dashvector) (3.8.5)\n",
            "Requirement already satisfied: grpcio>=1.22.0 in /usr/local/lib/python3.10/dist-packages (from dashvector) (1.57.0)\n",
            "Requirement already satisfied: requests in /usr/local/lib/python3.10/dist-packages (from dashscope) (2.31.0)\n",
            "Requirement already satisfied: attrs>=17.3.0 in /usr/local/lib/python3.10/dist-packages (from aiohttp>=3.1.0->dashvector) (23.1.0)\n",
            "Requirement already satisfied: charset-normalizer<4.0,>=2.0 in /usr/local/lib/python3.10/dist-packages (from aiohttp>=3.1.0->dashvector) (3.2.0)\n",
            "Requirement already satisfied: multidict<7.0,>=4.5 in /usr/local/lib/python3.10/dist-packages (from aiohttp>=3.1.0->dashvector) (6.0.4)\n",
            "Requirement already satisfied: async-timeout<5.0,>=4.0.0a3 in /usr/local/lib/python3.10/dist-packages (from aiohttp>=3.1.0->dashvector) (4.0.3)\n",
            "Requirement already satisfied: yarl<2.0,>=1.0 in /usr/local/lib/python3.10/dist-packages (from aiohttp>=3.1.0->dashvector) (1.9.2)\n",
            "Requirement already satisfied: frozenlist>=1.1.1 in /usr/local/lib/python3.10/dist-packages (from aiohttp>=3.1.0->dashvector) (1.4.0)\n",
            "Requirement already satisfied: aiosignal>=1.1.2 in /usr/local/lib/python3.10/dist-packages (from aiohttp>=3.1.0->dashvector) (1.3.1)\n",
            "Requirement already satisfied: idna<4,>=2.5 in /usr/local/lib/python3.10/dist-packages (from requests->dashscope) (3.4)\n",
            "Requirement already satisfied: urllib3<3,>=1.21.1 in /usr/local/lib/python3.10/dist-packages (from requests->dashscope) (2.0.4)\n",
            "Requirement already satisfied: certifi>=2017.4.17 in /usr/local/lib/python3.10/dist-packages (from requests->dashscope) (2023.7.22)\n",
            "Installing collected packages: dashvector, dashscope\n",
            "Successfully installed dashscope-1.7.2 dashvector-1.0.1\n",
            "Collecting transformers_stream_generator\n",
            "  Downloading transformers-stream-generator-0.0.4.tar.gz (12 kB)\n",
            "  Preparing metadata (setup.py) ... \u001b[?25l\u001b[?25hdone\n",
            "Collecting python-dotenv\n",
            "  Downloading python_dotenv-1.0.0-py3-none-any.whl (19 kB)\n",
            "Collecting transformers>=4.26.1 (from transformers_stream_generator)\n",
            "  Downloading transformers-4.32.1-py3-none-any.whl (7.5 MB)\n",
            "\u001b[2K     \u001b[90m━━━━━━━━━━━━━━━━━━━━━━━━━━━━━━━━━━━━━━━━\u001b[0m \u001b[32m7.5/7.5 MB\u001b[0m \u001b[31m56.1 MB/s\u001b[0m eta \u001b[36m0:00:00\u001b[0m\n",
            "\u001b[?25hRequirement already satisfied: filelock in /usr/local/lib/python3.10/dist-packages (from transformers>=4.26.1->transformers_stream_generator) (3.12.2)\n",
            "Collecting huggingface-hub<1.0,>=0.15.1 (from transformers>=4.26.1->transformers_stream_generator)\n",
            "  Downloading huggingface_hub-0.16.4-py3-none-any.whl (268 kB)\n",
            "\u001b[2K     \u001b[90m━━━━━━━━━━━━━━━━━━━━━━━━━━━━━━━━━━━━━━\u001b[0m \u001b[32m268.8/268.8 kB\u001b[0m \u001b[31m25.6 MB/s\u001b[0m eta \u001b[36m0:00:00\u001b[0m\n",
            "\u001b[?25hRequirement already satisfied: numpy>=1.17 in /usr/local/lib/python3.10/dist-packages (from transformers>=4.26.1->transformers_stream_generator) (1.23.5)\n",
            "Requirement already satisfied: packaging>=20.0 in /usr/local/lib/python3.10/dist-packages (from transformers>=4.26.1->transformers_stream_generator) (23.1)\n",
            "Requirement already satisfied: pyyaml>=5.1 in /usr/local/lib/python3.10/dist-packages (from transformers>=4.26.1->transformers_stream_generator) (6.0.1)\n",
            "Requirement already satisfied: regex!=2019.12.17 in /usr/local/lib/python3.10/dist-packages (from transformers>=4.26.1->transformers_stream_generator) (2023.6.3)\n",
            "Requirement already satisfied: requests in /usr/local/lib/python3.10/dist-packages (from transformers>=4.26.1->transformers_stream_generator) (2.31.0)\n",
            "Collecting tokenizers!=0.11.3,<0.14,>=0.11.1 (from transformers>=4.26.1->transformers_stream_generator)\n",
            "  Downloading tokenizers-0.13.3-cp310-cp310-manylinux_2_17_x86_64.manylinux2014_x86_64.whl (7.8 MB)\n",
            "\u001b[2K     \u001b[90m━━━━━━━━━━━━━━━━━━━━━━━━━━━━━━━━━━━━━━━━\u001b[0m \u001b[32m7.8/7.8 MB\u001b[0m \u001b[31m88.5 MB/s\u001b[0m eta \u001b[36m0:00:00\u001b[0m\n",
            "\u001b[?25hCollecting safetensors>=0.3.1 (from transformers>=4.26.1->transformers_stream_generator)\n",
            "  Downloading safetensors-0.3.3-cp310-cp310-manylinux_2_17_x86_64.manylinux2014_x86_64.whl (1.3 MB)\n",
            "\u001b[2K     \u001b[90m━━━━━━━━━━━━━━━━━━━━━━━━━━━━━━━━━━━━━━━━\u001b[0m \u001b[32m1.3/1.3 MB\u001b[0m \u001b[31m81.8 MB/s\u001b[0m eta \u001b[36m0:00:00\u001b[0m\n",
            "\u001b[?25hRequirement already satisfied: tqdm>=4.27 in /usr/local/lib/python3.10/dist-packages (from transformers>=4.26.1->transformers_stream_generator) (4.66.1)\n",
            "Requirement already satisfied: fsspec in /usr/local/lib/python3.10/dist-packages (from huggingface-hub<1.0,>=0.15.1->transformers>=4.26.1->transformers_stream_generator) (2023.6.0)\n",
            "Requirement already satisfied: typing-extensions>=3.7.4.3 in /usr/local/lib/python3.10/dist-packages (from huggingface-hub<1.0,>=0.15.1->transformers>=4.26.1->transformers_stream_generator) (4.7.1)\n",
            "Requirement already satisfied: charset-normalizer<4,>=2 in /usr/local/lib/python3.10/dist-packages (from requests->transformers>=4.26.1->transformers_stream_generator) (3.2.0)\n",
            "Requirement already satisfied: idna<4,>=2.5 in /usr/local/lib/python3.10/dist-packages (from requests->transformers>=4.26.1->transformers_stream_generator) (3.4)\n",
            "Requirement already satisfied: urllib3<3,>=1.21.1 in /usr/local/lib/python3.10/dist-packages (from requests->transformers>=4.26.1->transformers_stream_generator) (2.0.4)\n",
            "Requirement already satisfied: certifi>=2017.4.17 in /usr/local/lib/python3.10/dist-packages (from requests->transformers>=4.26.1->transformers_stream_generator) (2023.7.22)\n",
            "Building wheels for collected packages: transformers_stream_generator\n",
            "  Building wheel for transformers_stream_generator (setup.py) ... \u001b[?25l\u001b[?25hdone\n",
            "  Created wheel for transformers_stream_generator: filename=transformers_stream_generator-0.0.4-py3-none-any.whl size=12315 sha256=280ab6c59e1c32e73a5f9a2f0097e66e5872906750b2c2750ee2f57f9769d358\n",
            "  Stored in directory: /root/.cache/pip/wheels/47/1d/3c/92d88493ed40c0d9be60a391eb76c9a56e9f9b7542cb789401\n",
            "Successfully built transformers_stream_generator\n",
            "Installing collected packages: tokenizers, safetensors, python-dotenv, huggingface-hub, transformers, transformers_stream_generator\n",
            "Successfully installed huggingface-hub-0.16.4 python-dotenv-1.0.0 safetensors-0.3.3 tokenizers-0.13.3 transformers-4.32.1 transformers_stream_generator-0.0.4\n"
          ]
        }
      ],
      "source": [
        "# install required packages\n",
        "!pip install dashvector dashscope\n",
        "!pip install transformers_stream_generator python-dotenv"
      ]
    },
    {
      "cell_type": "code",
      "execution_count": 2,
      "id": "0ca135ac-b1b0-47b9-ad25-a0d11ac884f3",
      "metadata": {
        "colab": {
          "base_uri": "https://localhost:8080/"
        },
        "id": "0ca135ac-b1b0-47b9-ad25-a0d11ac884f3",
        "outputId": "6d3a33eb-5d42-4f56-ee73-b089e83bde50",
        "tags": []
      },
      "outputs": [
        {
          "name": "stdout",
          "output_type": "stream",
          "text": [
            "Cloning into 'CEC-Corpus'...\n",
            "remote: Enumerating objects: 1278, done.\u001b[K\n",
            "remote: Total 1278 (delta 0), reused 0 (delta 0), pack-reused 1278\u001b[K\n",
            "Receiving objects: 100% (1278/1278), 1.19 MiB | 17.35 MiB/s, done.\n",
            "Resolving deltas: 100% (371/371), done.\n"
          ]
        }
      ],
      "source": [
        "# prepare news corpus as knowledge source\n",
        "!git clone https://github.com/shijiebei2009/CEC-Corpus.git"
      ]
    },
    {
      "cell_type": "code",
      "execution_count": 3,
      "id": "728a2bf5-905c-48ef-b70a-be53d4f8fcc0",
      "metadata": {
        "ExecutionIndicator": {
          "show": false
        },
        "execution": {
          "iopub.execute_input": "2023-08-10T10:32:15.429699Z",
          "iopub.status.busy": "2023-08-10T10:32:15.429291Z",
          "iopub.status.idle": "2023-08-10T10:32:16.076518Z",
          "shell.execute_reply": "2023-08-10T10:32:16.075949Z",
          "shell.execute_reply.started": "2023-08-10T10:32:15.429679Z"
        },
        "id": "728a2bf5-905c-48ef-b70a-be53d4f8fcc0",
        "tags": []
      },
      "outputs": [],
      "source": [
        "import dashscope\n",
        "import os\n",
        "from dashscope import TextEmbedding\n",
        "from dashvector import Client, Doc\n",
        "\n",
        "# [Note: get your DashScope API key here first: https://dashscope.console.aliyun.com/apiKey]\n",
        "dashscope.api_key='YOUR-DASHSCOPE-API-KEY'\n",
        "\n",
        "# 初始化 DashVector client\n",
        "# [Note: get your DashVector API key here first: https://dashvector.console.aliyun.com/cn-hangzhou/api-key]\n",
        "dashvector_client = Client(api_key='YOUR-DASHVECTOR-API-KEY')\n",
        "\n",
        "# define collection name\n",
        "collection_name = 'news_embeddings'\n",
        "\n",
        "# delete if already exist\n",
        "dashvector_client.delete(collection_name)\n",
        "\n",
        "# create a collection with embedding size of 1536\n",
        "rsp = dashvector_client.create(collection_name, 1536)\n",
        "collection = dashvector_client.get(collection_name)\n"
      ]
    },
    {
      "cell_type": "code",
      "execution_count": 4,
      "id": "558b64ab-1fdf-4339-8368-97e67bef8159",
      "metadata": {
        "ExecutionIndicator": {
          "show": false
        },
        "execution": {
          "iopub.execute_input": "2023-08-10T10:57:43.451192Z",
          "iopub.status.busy": "2023-08-10T10:57:43.450893Z",
          "iopub.status.idle": "2023-08-10T10:57:43.454858Z",
          "shell.execute_reply": "2023-08-10T10:57:43.454244Z",
          "shell.execute_reply.started": "2023-08-10T10:57:43.451173Z"
        },
        "id": "558b64ab-1fdf-4339-8368-97e67bef8159",
        "tags": []
      },
      "outputs": [],
      "source": [
        "def prepare_data_from_dir(path, size):\n",
        "    # prepare the data from a file folder in order to upsert to DashVector with a reasonable doc's size.\n",
        "    batch_docs = []\n",
        "    for file in os.listdir(path):\n",
        "        with open(path + '/' + file, 'r', encoding='utf-8') as f:\n",
        "            batch_docs.append(f.read())\n",
        "            if len(batch_docs) == size:\n",
        "                yield batch_docs[:]\n",
        "                batch_docs.clear()\n",
        "\n",
        "    if batch_docs:\n",
        "        yield batch_docs"
      ]
    },
    {
      "cell_type": "code",
      "execution_count": 5,
      "id": "d65c0f3f-a080-4803-b5ed-f4e641a96db2",
      "metadata": {
        "ExecutionIndicator": {
          "show": false
        },
        "execution": {
          "iopub.execute_input": "2023-08-10T10:57:44.615001Z",
          "iopub.status.busy": "2023-08-10T10:57:44.614690Z",
          "iopub.status.idle": "2023-08-10T10:57:44.618899Z",
          "shell.execute_reply": "2023-08-10T10:57:44.618418Z",
          "shell.execute_reply.started": "2023-08-10T10:57:44.614979Z"
        },
        "id": "d65c0f3f-a080-4803-b5ed-f4e641a96db2",
        "tags": []
      },
      "outputs": [],
      "source": [
        "def prepare_data_from_file(path, size):\n",
        "    # prepare the data from file in order to upsert to DashVector with a reasonable doc's size.\n",
        "    batch_docs = []\n",
        "    chunk_size = 12\n",
        "    with open(path, 'r', encoding='utf-8') as f:\n",
        "        doc = ''\n",
        "        count = 0\n",
        "        for line in f:\n",
        "            if count < chunk_size and line.strip() != '':\n",
        "                doc += line\n",
        "                count += 1\n",
        "            if count == chunk_size:\n",
        "                batch_docs.append(doc)\n",
        "                if len(batch_docs) == size:\n",
        "                    yield batch_docs[:]\n",
        "                    batch_docs.clear()\n",
        "                doc = ''\n",
        "                count = 0\n",
        "\n",
        "    if batch_docs:\n",
        "        yield batch_docs"
      ]
    },
    {
      "cell_type": "code",
      "execution_count": 6,
      "id": "aded6eec-1f05-479e-9f0e-3ce63872a07b",
      "metadata": {
        "ExecutionIndicator": {
          "show": true
        },
        "execution": {
          "iopub.execute_input": "2023-08-10T10:57:46.210192Z",
          "iopub.status.busy": "2023-08-10T10:57:46.209870Z",
          "iopub.status.idle": "2023-08-10T10:57:46.214412Z",
          "shell.execute_reply": "2023-08-10T10:57:46.213625Z",
          "shell.execute_reply.started": "2023-08-10T10:57:46.210172Z"
        },
        "id": "aded6eec-1f05-479e-9f0e-3ce63872a07b",
        "tags": []
      },
      "outputs": [],
      "source": [
        "def generate_embeddings(docs):\n",
        "    # create embeddings via DashScope's TextEmbedding model API\n",
        "    rsp = TextEmbedding.call(model=TextEmbedding.Models.text_embedding_v1,\n",
        "                             input=docs)\n",
        "    embeddings = [record['embedding'] for record in rsp.output['embeddings']]\n",
        "    return embeddings if isinstance(docs, list) else embeddings[0]"
      ]
    },
    {
      "cell_type": "code",
      "execution_count": 11,
      "id": "5c0ba7e1-001f-4bb9-9bdb-7eb318bc3550",
      "metadata": {
        "ExecutionIndicator": {
          "show": true
        },
        "colab": {
          "base_uri": "https://localhost:8080/"
        },
        "id": "5c0ba7e1-001f-4bb9-9bdb-7eb318bc3550",
        "outputId": "19fb3258-756f-4413-a062-ce66c2474f9f",
        "tags": []
      },
      "outputs": [
        {
          "name": "stdout",
          "output_type": "stream",
          "text": [
            "{\"code\": 0, \"message\": \"Success\", \"requests_id\": \"04376f49-e2bf-4630-ae93-9daf11e7486c\"}\n",
            "{\"code\": 0, \"message\": \"Success\", \"requests_id\": \"58c25fb2-4efd-4cbe-8b44-26ba4cb7473e\"}\n",
            "{\"code\": 0, \"message\": \"Success\", \"requests_id\": \"b7fed069-80d4-4e5c-a778-dd1c9b24c70b\"}\n",
            "{\"code\": 0, \"message\": \"Success\", \"requests_id\": \"f0ffa55a-3f3f-4cae-8736-105a3e766444\"}\n",
            "{\"code\": 0, \"message\": \"Success\", \"requests_id\": \"1023f054-edd8-4da0-b558-bffe51deac6d\"}\n",
            "{\"code\": 0, \"message\": \"Success\", \"requests_id\": \"09d0c413-93c2-4b09-acf9-1108e00f4947\"}\n",
            "{\"code\": 0, \"message\": \"Success\", \"requests_id\": \"cf494fac-a60a-467d-86cf-b6ca549ddbe0\"}\n",
            "{\"code\": 0, \"message\": \"Success\", \"requests_id\": \"4fd92e67-7037-42da-8469-ec48c8371ba9\"}\n",
            "{\"code\": 0, \"message\": \"Success\", \"requests_id\": \"8e54cd88-0aa8-464b-9d8d-2e042446df49\"}\n",
            "{\"code\": 0, \"message\": \"Success\", \"requests_id\": \"8a9ba99a-db03-474c-9f4a-ecbc16f714d6\"}\n",
            "{\"code\": 0, \"message\": \"Success\", \"requests_id\": \"5fdc22a8-84e1-4acc-93a7-f4dfc89c7318\"}\n",
            "{\"code\": 0, \"message\": \"Success\", \"requests_id\": \"c174ff3f-9fe6-4863-9496-df05f0b21ef6\"}\n",
            "{\"code\": 0, \"message\": \"Success\", \"requests_id\": \"b633c498-dbb8-486d-bea3-d4fe0dd49bca\"}\n",
            "{\"code\": 0, \"message\": \"Success\", \"requests_id\": \"e854afa9-3840-4807-b72d-2baed8af4cd0\"}\n"
          ]
        }
      ],
      "source": [
        "# create embeddings and insert them into DashVector.\n",
        "# Note: this may take a while (up to 5 mins) to run.\n",
        "\n",
        "id = 0\n",
        "dir_name = 'CEC-Corpus/raw corpus/allSourceText'\n",
        "\n",
        "# indexing the raw docs with index to DashVector\n",
        "collection = dashvector_client.get(collection_name)\n",
        "\n",
        "batch_size = 20\n",
        "\n",
        "for news in list(prepare_data_from_dir(dir_name, batch_size)):\n",
        "    ids = [id + i for i, _ in enumerate(news)]\n",
        "    id += len(news)\n",
        "    # generate embedding from raw docs\n",
        "    vectors = generate_embeddings(news)\n",
        "    # upsert and index\n",
        "    ret = collection.upsert(\n",
        "        [\n",
        "            Doc(id=str(id), vector=vector, fields={\"raw\": doc})\n",
        "            for id, doc, vector in zip(ids, news, vectors)\n",
        "        ]\n",
        "    )\n",
        "    print(ret)\n"
      ]
    },
    {
      "cell_type": "code",
      "execution_count": 12,
      "id": "53bed7e4-35be-4df6-8775-7d62fcdb6457",
      "metadata": {
        "ExecutionIndicator": {
          "show": true
        },
        "colab": {
          "base_uri": "https://localhost:8080/"
        },
        "id": "53bed7e4-35be-4df6-8775-7d62fcdb6457",
        "outputId": "6b372643-eea9-4066-e094-232aca8a4d81",
        "tags": []
      },
      "outputs": [
        {
          "name": "stdout",
          "output_type": "stream",
          "text": [
            "{\"code\": 0, \"message\": \"Success\", \"requests_id\": \"c83917d4-1251-454e-9311-1077e12e1e6e\", \"output\": {\"total_doc_count\": 332, \"index_completeness\": 1.0, \"partitions\": {\"default\": {\"total_doc_count\": 332}}}}\n"
          ]
        }
      ],
      "source": [
        "# check the collection status\n",
        "collection = dashvector_client.get(collection_name)\n",
        "rsp = collection.stats()\n",
        "print(rsp)"
      ]
    },
    {
      "cell_type": "code",
      "execution_count": 13,
      "id": "41e54ddd-145d-49c3-ade4-4a46dc34e07b",
      "metadata": {
        "ExecutionIndicator": {
          "show": true
        },
        "execution": {
          "iopub.execute_input": "2023-08-10T10:57:54.368540Z",
          "iopub.status.busy": "2023-08-10T10:57:54.368215Z",
          "iopub.status.idle": "2023-08-10T10:57:54.371879Z",
          "shell.execute_reply": "2023-08-10T10:57:54.371364Z",
          "shell.execute_reply.started": "2023-08-10T10:57:54.368521Z"
        },
        "id": "41e54ddd-145d-49c3-ade4-4a46dc34e07b",
        "tags": []
      },
      "outputs": [],
      "source": [
        "def search_relevant_context(question, topk=1, client=dashvector_client):\n",
        "    # query and recall the relevant information\n",
        "    collection = client.get(collection_name)\n",
        "\n",
        "    # recall the top k similarity results from DashVector\n",
        "    rsp = collection.query(generate_embeddings(question), output_fields=['raw'],\n",
        "                           topk=topk)\n",
        "    return \"\".join([item.fields['raw'] for item in rsp.output])"
      ]
    },
    {
      "cell_type": "code",
      "execution_count": 72,
      "id": "2f5a1bcb-e83a-44d3-bbe4-f97437782a3b",
      "metadata": {
        "ExecutionIndicator": {
          "show": false
        },
        "execution": {
          "iopub.execute_input": "2023-08-10T10:41:01.761863Z",
          "iopub.status.busy": "2023-08-10T10:41:01.761502Z",
          "iopub.status.idle": "2023-08-10T10:41:01.765849Z",
          "shell.execute_reply": "2023-08-10T10:41:01.765318Z",
          "shell.execute_reply.started": "2023-08-10T10:41:01.761842Z"
        },
        "id": "2f5a1bcb-e83a-44d3-bbe4-f97437782a3b",
        "tags": []
      },
      "outputs": [],
      "source": [
        "import dashscope\n",
        "import textwrap\n",
        "from dashscope import Generation\n",
        "\n",
        "# define a prompt template for the vectorDB-enhanced LLM generation\n",
        "def answer_question(model_name, question, context):\n",
        "    prompt = f'''请基于```内的内容回答问题。\"\n",
        "\t```\n",
        "\t{context}\n",
        "\t```\n",
        "\t我的问题是：{question}。\n",
        "    '''\n",
        "    response = Generation.call(\n",
        "      model= model_name,\n",
        "      prompt=prompt\n",
        "    )\n",
        "    # print(prompt)\n",
        "    return response.output['text']"
      ]
    },
    {
      "cell_type": "code",
      "execution_count": 78,
      "id": "75ac8f4a-a861-4376-9e55-ebefef9a9cd6",
      "metadata": {
        "ExecutionIndicator": {
          "show": true
        },
        "colab": {
          "base_uri": "https://localhost:8080/"
        },
        "execution": {
          "iopub.execute_input": "2023-08-10T10:41:29.070090Z",
          "iopub.status.busy": "2023-08-10T10:41:29.069778Z",
          "iopub.status.idle": "2023-08-10T10:41:31.613198Z",
          "shell.execute_reply": "2023-08-10T10:41:31.612421Z",
          "shell.execute_reply.started": "2023-08-10T10:41:29.070073Z"
        },
        "id": "75ac8f4a-a861-4376-9e55-ebefef9a9cd6",
        "outputId": "930083df-bb63-4f4f-dc44-e86a7a6b698f",
        "tags": []
      },
      "outputs": [
        {
          "name": "stdout",
          "output_type": "stream",
          "text": [
            "问题: 海南安定追尾事故，发生在哪里？原因是什么？人员伤亡情况如何？\n",
            "回答: 很抱歉，我无法提供关于该事故的最新信息。请您查阅可靠的新闻来源以获取最新信息。\n"
          ]
        }
      ],
      "source": [
        "# test Q&A on plain LLM without vectorDB enhancement\n",
        "model_name = 'qwen-7b-chat-v1'\n",
        "question = '海南安定追尾事故，发生在哪里？原因是什么？人员伤亡情况如何？'\n",
        "answer = answer_question(model_name, question, '')\n",
        "print(f'问题: {question}\\n' f'回答: {textwrap.fill(answer, width=50)}')"
      ]
    },
    {
      "cell_type": "code",
      "execution_count": 79,
      "id": "eca328fc-cd69-4e12-8448-f426f3314414",
      "metadata": {
        "ExecutionIndicator": {
          "show": false
        },
        "colab": {
          "base_uri": "https://localhost:8080/"
        },
        "execution": {
          "iopub.execute_input": "2023-08-10T10:41:34.268896Z",
          "iopub.status.busy": "2023-08-10T10:41:34.268585Z",
          "iopub.status.idle": "2023-08-10T10:41:37.750128Z",
          "shell.execute_reply": "2023-08-10T10:41:37.749414Z",
          "shell.execute_reply.started": "2023-08-10T10:41:34.268878Z"
        },
        "id": "eca328fc-cd69-4e12-8448-f426f3314414",
        "outputId": "9e65cc19-cb02-4606-da95-c7821e7c2c21",
        "tags": []
      },
      "outputs": [
        {
          "name": "stdout",
          "output_type": "stream",
          "text": [
            "问题: 海南安定追尾事故，发生在哪里？原因是什么？人员伤亡情况如何？\n",
            "回答: 海南安定追尾事故发生在海南省定安县境内，环岛东线高速公路海口往三亚方向53公里处。原因是琼AB711\n",
            "9小轿车驾驶人追尾所致。该事故造成小轿车人员5人当场死亡，其中一人为未成年人。\n"
          ]
        }
      ],
      "source": [
        "# test Q&A with knowledge enhancement through DashVector\n",
        "context = search_relevant_context(question, topk=2)\n",
        "answer = answer_question(model_name, question, context)\n",
        "print(f'问题: {question}\\n' f'回答: {textwrap.fill(answer, width=50)}')"
      ]
    }
  ],
  "metadata": {
    "colab": {
      "provenance": []
    },
    "kernelspec": {
      "display_name": "Python 3 (ipykernel)",
      "language": "python",
      "name": "python3"
    },
    "language_info": {
      "codemirror_mode": {
        "name": "ipython",
        "version": 3
      },
      "file_extension": ".py",
      "mimetype": "text/x-python",
      "name": "python",
      "nbconvert_exporter": "python",
      "pygments_lexer": "ipython3",
      "version": "3.8.16"
    }
  },
  "nbformat": 4,
  "nbformat_minor": 5
}
