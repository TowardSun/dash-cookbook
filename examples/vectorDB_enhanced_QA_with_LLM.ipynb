{
  "cells": [
    {
      "cell_type": "markdown",
      "id": "j0lV5ZZcH5za",
      "metadata": {
        "id": "j0lV5ZZcH5za"
      },
      "source": [
        "##  安装DashScope和DashVector Python SDK"
      ]
    },
    {
      "cell_type": "code",
      "execution_count": 2,
      "id": "04d4165c-fab2-4f54-9b50-11d53917d785",
      "metadata": {
        "ExecutionIndicator": {
          "show": true
        },
        "colab": {
          "base_uri": "https://localhost:8080/"
        },
        "id": "04d4165c-fab2-4f54-9b50-11d53917d785",
        "outputId": "99c68327-a2e8-4549-f042-e71be30e2a09",
        "tags": []
      },
      "outputs": [
        {
          "name": "stdout",
          "output_type": "stream",
          "text": [
            "Requirement already satisfied: dashvector in /usr/local/lib/python3.10/dist-packages (1.0.1)\n",
            "Requirement already satisfied: dashscope in /usr/local/lib/python3.10/dist-packages (1.7.2)\n",
            "Requirement already satisfied: numpy in /usr/local/lib/python3.10/dist-packages (from dashvector) (1.23.5)\n",
            "Requirement already satisfied: protobuf<4.0.0,>=3.8.0 in /usr/local/lib/python3.10/dist-packages (from dashvector) (3.20.3)\n",
            "Requirement already satisfied: aiohttp>=3.1.0 in /usr/local/lib/python3.10/dist-packages (from dashvector) (3.8.5)\n",
            "Requirement already satisfied: grpcio>=1.22.0 in /usr/local/lib/python3.10/dist-packages (from dashvector) (1.57.0)\n",
            "Requirement already satisfied: requests in /usr/local/lib/python3.10/dist-packages (from dashscope) (2.31.0)\n",
            "Requirement already satisfied: attrs>=17.3.0 in /usr/local/lib/python3.10/dist-packages (from aiohttp>=3.1.0->dashvector) (23.1.0)\n",
            "Requirement already satisfied: charset-normalizer<4.0,>=2.0 in /usr/local/lib/python3.10/dist-packages (from aiohttp>=3.1.0->dashvector) (3.2.0)\n",
            "Requirement already satisfied: multidict<7.0,>=4.5 in /usr/local/lib/python3.10/dist-packages (from aiohttp>=3.1.0->dashvector) (6.0.4)\n",
            "Requirement already satisfied: async-timeout<5.0,>=4.0.0a3 in /usr/local/lib/python3.10/dist-packages (from aiohttp>=3.1.0->dashvector) (4.0.3)\n",
            "Requirement already satisfied: yarl<2.0,>=1.0 in /usr/local/lib/python3.10/dist-packages (from aiohttp>=3.1.0->dashvector) (1.9.2)\n",
            "Requirement already satisfied: frozenlist>=1.1.1 in /usr/local/lib/python3.10/dist-packages (from aiohttp>=3.1.0->dashvector) (1.4.0)\n",
            "Requirement already satisfied: aiosignal>=1.1.2 in /usr/local/lib/python3.10/dist-packages (from aiohttp>=3.1.0->dashvector) (1.3.1)\n",
            "Requirement already satisfied: idna<4,>=2.5 in /usr/local/lib/python3.10/dist-packages (from requests->dashscope) (3.4)\n",
            "Requirement already satisfied: urllib3<3,>=1.21.1 in /usr/local/lib/python3.10/dist-packages (from requests->dashscope) (2.0.4)\n",
            "Requirement already satisfied: certifi>=2017.4.17 in /usr/local/lib/python3.10/dist-packages (from requests->dashscope) (2023.7.22)\n"
          ]
        }
      ],
      "source": [
        "# install required packages\n",
        "!pip install dashvector dashscope"
      ]
    },
    {
      "cell_type": "markdown",
      "id": "gYSx-KX5IZnB",
      "metadata": {
        "id": "gYSx-KX5IZnB"
      },
      "source": [
        "## 下载数据"
      ]
    },
    {
      "cell_type": "code",
      "execution_count": 4,
      "id": "0ca135ac-b1b0-47b9-ad25-a0d11ac884f3",
      "metadata": {
        "colab": {
          "base_uri": "https://localhost:8080/"
        },
        "id": "0ca135ac-b1b0-47b9-ad25-a0d11ac884f3",
        "outputId": "d0555538-815b-49a6-8a8b-41a9f87a7e1a",
        "tags": []
      },
      "outputs": [
        {
          "name": "stdout",
          "output_type": "stream",
          "text": [
            "Cloning into 'CEC-Corpus'...\n",
            "remote: Enumerating objects: 1278, done.\u001b[K\n",
            "remote: Total 1278 (delta 0), reused 0 (delta 0), pack-reused 1278\u001b[K\n",
            "Receiving objects: 100% (1278/1278), 1.19 MiB | 4.10 MiB/s, done.\n",
            "Resolving deltas: 100% (371/371), done.\n"
          ]
        }
      ],
      "source": [
        "# prepare news corpus as knowledge source\n",
        "!git clone https://github.com/shijiebei2009/CEC-Corpus.git"
      ]
    },
    {
      "cell_type": "markdown",
      "id": "dynSJAdfIjOS",
      "metadata": {
        "id": "dynSJAdfIjOS"
      },
      "source": [
        "## 配置DashScope API key以及初始化向量数据库DashVector"
      ]
    },
    {
      "cell_type": "code",
      "execution_count": 3,
      "id": "728a2bf5-905c-48ef-b70a-be53d4f8fcc0",
      "metadata": {
        "ExecutionIndicator": {
          "show": false
        },
        "execution": {
          "iopub.execute_input": "2023-08-10T10:32:15.429699Z",
          "iopub.status.busy": "2023-08-10T10:32:15.429291Z",
          "iopub.status.idle": "2023-08-10T10:32:16.076518Z",
          "shell.execute_reply": "2023-08-10T10:32:16.075949Z",
          "shell.execute_reply.started": "2023-08-10T10:32:15.429679Z"
        },
        "id": "728a2bf5-905c-48ef-b70a-be53d4f8fcc0",
        "tags": []
      },
      "outputs": [],
      "source": [
        "import dashscope\n",
        "import os\n",
        "from dashscope import TextEmbedding\n",
        "from dashvector import Client, Doc\n",
        "\n",
        "# [Note: get your DashScope API key here first: https://dashscope.console.aliyun.com/apiKey]\n",
        "dashscope.api_key='YOUR-DASHSCOPE-API-KEY'\n",
        "\n",
        "\n",
        "# 初始化 DashVector client\n",
        "# [Note: get your DashVector API key here first: https://dashvector.console.aliyun.com/cn-hangzhou/api-key]\n",
        "dashvector_client = Client(api_key='YOUR-DASHVECTOR-API-KEY')\n",
        "\n",
        "# define collection name\n",
        "collection_name = 'news_embeddings'\n",
        "\n",
        "# delete if already exist\n",
        "dashvector_client.delete(collection_name)\n",
        "\n",
        "# create a collection with embedding size of 1536\n",
        "collection_dimension = 1536\n",
        "rsp = dashvector_client.create(collection_name, collection_dimension)\n",
        "collection = dashvector_client.get(collection_name)\n"
      ]
    },
    {
      "cell_type": "markdown",
      "id": "sjVviucaI_4O",
      "metadata": {
        "id": "sjVviucaI_4O"
      },
      "source": [
        "## 数据读取"
      ]
    },
    {
      "cell_type": "code",
      "execution_count": 5,
      "id": "558b64ab-1fdf-4339-8368-97e67bef8159",
      "metadata": {
        "ExecutionIndicator": {
          "show": false
        },
        "execution": {
          "iopub.execute_input": "2023-08-10T10:57:43.451192Z",
          "iopub.status.busy": "2023-08-10T10:57:43.450893Z",
          "iopub.status.idle": "2023-08-10T10:57:43.454858Z",
          "shell.execute_reply": "2023-08-10T10:57:43.454244Z",
          "shell.execute_reply.started": "2023-08-10T10:57:43.451173Z"
        },
        "id": "558b64ab-1fdf-4339-8368-97e67bef8159",
        "tags": []
      },
      "outputs": [],
      "source": [
        "def prepare_data_from_dir(path, size):\n",
        "    # prepare the data from a file folder in order to upsert to DashVector with a reasonable doc's size.\n",
        "    batch_docs = []\n",
        "    for file in os.listdir(path):\n",
        "        with open(path + '/' + file, 'r', encoding='utf-8') as f:\n",
        "            batch_docs.append(f.read())\n",
        "            if len(batch_docs) == size:\n",
        "                yield batch_docs[:]\n",
        "                batch_docs.clear()\n",
        "\n",
        "    if batch_docs:\n",
        "        yield batch_docs"
      ]
    },
    {
      "cell_type": "code",
      "execution_count": 6,
      "id": "d65c0f3f-a080-4803-b5ed-f4e641a96db2",
      "metadata": {
        "ExecutionIndicator": {
          "show": false
        },
        "execution": {
          "iopub.execute_input": "2023-08-10T10:57:44.615001Z",
          "iopub.status.busy": "2023-08-10T10:57:44.614690Z",
          "iopub.status.idle": "2023-08-10T10:57:44.618899Z",
          "shell.execute_reply": "2023-08-10T10:57:44.618418Z",
          "shell.execute_reply.started": "2023-08-10T10:57:44.614979Z"
        },
        "id": "d65c0f3f-a080-4803-b5ed-f4e641a96db2",
        "tags": []
      },
      "outputs": [],
      "source": [
        "def prepare_data_from_file(path, size):\n",
        "    # prepare the data from file in order to upsert to DashVector with a reasonable doc's size.\n",
        "    batch_docs = []\n",
        "    chunk_size = 12\n",
        "    with open(path, 'r', encoding='utf-8') as f:\n",
        "        doc = ''\n",
        "        count = 0\n",
        "        for line in f:\n",
        "            if count < chunk_size and line.strip() != '':\n",
        "                doc += line\n",
        "                count += 1\n",
        "            if count == chunk_size:\n",
        "                batch_docs.append(doc)\n",
        "                if len(batch_docs) == size:\n",
        "                    yield batch_docs[:]\n",
        "                    batch_docs.clear()\n",
        "                doc = ''\n",
        "                count = 0\n",
        "\n",
        "    if batch_docs:\n",
        "        yield batch_docs"
      ]
    },
    {
      "cell_type": "markdown",
      "id": "AJocdvLeJImp",
      "metadata": {
        "id": "AJocdvLeJImp"
      },
      "source": [
        "## 利用Embedding API生成文本向量"
      ]
    },
    {
      "cell_type": "code",
      "execution_count": 7,
      "id": "aded6eec-1f05-479e-9f0e-3ce63872a07b",
      "metadata": {
        "ExecutionIndicator": {
          "show": true
        },
        "execution": {
          "iopub.execute_input": "2023-08-10T10:57:46.210192Z",
          "iopub.status.busy": "2023-08-10T10:57:46.209870Z",
          "iopub.status.idle": "2023-08-10T10:57:46.214412Z",
          "shell.execute_reply": "2023-08-10T10:57:46.213625Z",
          "shell.execute_reply.started": "2023-08-10T10:57:46.210172Z"
        },
        "id": "aded6eec-1f05-479e-9f0e-3ce63872a07b",
        "tags": []
      },
      "outputs": [],
      "source": [
        "def generate_embeddings(docs):\n",
        "    # create embeddings via DashScope's TextEmbedding model API\n",
        "    rsp = TextEmbedding.call(model=TextEmbedding.Models.text_embedding_v1,\n",
        "                             input=docs)\n",
        "    embeddings = [record['embedding'] for record in rsp.output['embeddings']]\n",
        "    return embeddings if isinstance(docs, list) else embeddings[0]"
      ]
    },
    {
      "cell_type": "markdown",
      "id": "0GVun-c_JO0X",
      "metadata": {
        "id": "0GVun-c_JO0X"
      },
      "source": [
        "## 向量入库(使用batch 插入方式进入DashVector)"
      ]
    },
    {
      "cell_type": "code",
      "execution_count": 8,
      "id": "5c0ba7e1-001f-4bb9-9bdb-7eb318bc3550",
      "metadata": {
        "ExecutionIndicator": {
          "show": true
        },
        "colab": {
          "base_uri": "https://localhost:8080/"
        },
        "id": "5c0ba7e1-001f-4bb9-9bdb-7eb318bc3550",
        "outputId": "575cc5b3-4c6f-4dd0-a25d-8496de0869fb",
        "tags": []
      },
      "outputs": [
        {
          "name": "stdout",
          "output_type": "stream",
          "text": [
            "{\"code\": 0, \"message\": \"Success\", \"requests_id\": \"30471040-aebb-49ee-a77f-ca833975e5a0\"}\n",
            "{\"code\": 0, \"message\": \"Success\", \"requests_id\": \"166094f7-70fd-4bf9-8eac-cd575db068ec\"}\n",
            "{\"code\": 0, \"message\": \"Success\", \"requests_id\": \"b625db59-c937-4bad-897f-c5e33a1cdd86\"}\n",
            "{\"code\": 0, \"message\": \"Success\", \"requests_id\": \"b984aa46-625d-42f9-b649-1eb3bfa938d5\"}\n",
            "{\"code\": 0, \"message\": \"Success\", \"requests_id\": \"693c28c3-924a-42a6-8ce4-2b1911e86e9c\"}\n",
            "{\"code\": 0, \"message\": \"Success\", \"requests_id\": \"1de5b46b-dad4-4859-ab0f-5090281cc709\"}\n",
            "{\"code\": 0, \"message\": \"Success\", \"requests_id\": \"fa3e95f9-a5fc-4aae-a2b0-cff157c3b7df\"}\n",
            "{\"code\": 0, \"message\": \"Success\", \"requests_id\": \"b3a6d8a1-db05-4b0a-8312-80d836ff0429\"}\n",
            "{\"code\": 0, \"message\": \"Success\", \"requests_id\": \"e5748bc4-ec93-4e6c-a99f-c7cb2b8ea54f\"}\n",
            "{\"code\": 0, \"message\": \"Success\", \"requests_id\": \"ad203598-f416-4a93-a7bd-4c38cfe37bc2\"}\n",
            "{\"code\": 0, \"message\": \"Success\", \"requests_id\": \"477fd992-5c7d-4107-a5c2-7b0c874719f7\"}\n",
            "{\"code\": 0, \"message\": \"Success\", \"requests_id\": \"49889ab2-96fa-4760-bc7a-fe6f0d836b8c\"}\n",
            "{\"code\": 0, \"message\": \"Success\", \"requests_id\": \"ada818cc-4029-45b0-a765-42ba3204b6ec\"}\n",
            "{\"code\": 0, \"message\": \"Success\", \"requests_id\": \"db79bec6-bc9a-4179-92ee-97f8f9892f91\"}\n",
            "{\"code\": 0, \"message\": \"Success\", \"requests_id\": \"69cb961c-4578-46c0-9ce1-36b23936d5ff\"}\n",
            "{\"code\": 0, \"message\": \"Success\", \"requests_id\": \"1b30e31d-9ca3-42be-86f8-223fddf3349a\"}\n",
            "{\"code\": 0, \"message\": \"Success\", \"requests_id\": \"d83a7f05-deb7-43aa-adfd-09d4799a396b\"}\n"
          ]
        }
      ],
      "source": [
        "# create embeddings and insert them into DashVector.\n",
        "# Note: this may take a while to run.\n",
        "\n",
        "id = 0\n",
        "dir_name = 'CEC-Corpus/raw corpus/allSourceText'\n",
        "\n",
        "# indexing the raw docs with index to DashVector\n",
        "collection = dashvector_client.get(collection_name)\n",
        "\n",
        "# choose batch size of 20\n",
        "batch_size = 20\n",
        "\n",
        "for news in list(prepare_data_from_dir(dir_name, batch_size)):\n",
        "    ids = [id + i for i, _ in enumerate(news)]\n",
        "    id += len(news)\n",
        "    # generate embedding from raw docs\n",
        "    vectors = generate_embeddings(news)\n",
        "    # upsert and index\n",
        "    ret = collection.upsert(\n",
        "        [\n",
        "            Doc(id=str(id), vector=vector, fields={\"raw\": doc})\n",
        "            for id, doc, vector in zip(ids, news, vectors)\n",
        "        ]\n",
        "    )\n",
        "    print(ret)\n"
      ]
    },
    {
      "cell_type": "code",
      "execution_count": 9,
      "id": "53bed7e4-35be-4df6-8775-7d62fcdb6457",
      "metadata": {
        "ExecutionIndicator": {
          "show": true
        },
        "colab": {
          "base_uri": "https://localhost:8080/"
        },
        "id": "53bed7e4-35be-4df6-8775-7d62fcdb6457",
        "outputId": "84c89882-b864-4f22-a3d9-9e64121b5956",
        "tags": []
      },
      "outputs": [
        {
          "name": "stdout",
          "output_type": "stream",
          "text": [
            "{\"code\": 0, \"message\": \"Success\", \"requests_id\": \"24d49ebf-179f-44d7-97ea-ba93791b3f83\", \"output\": {\"total_doc_count\": 332, \"index_completeness\": 1.0, \"partitions\": {\"default\": {\"total_doc_count\": 332}}}}\n"
          ]
        }
      ],
      "source": [
        "# check the collection status\n",
        "collection = dashvector_client.get(collection_name)\n",
        "rsp = collection.stats()\n",
        "print(rsp)"
      ]
    },
    {
      "cell_type": "markdown",
      "id": "CM2LhwjpJcNf",
      "metadata": {
        "id": "CM2LhwjpJcNf"
      },
      "source": [
        "## 向量检索(知识库检索)"
      ]
    },
    {
      "cell_type": "code",
      "execution_count": 10,
      "id": "41e54ddd-145d-49c3-ade4-4a46dc34e07b",
      "metadata": {
        "ExecutionIndicator": {
          "show": true
        },
        "execution": {
          "iopub.execute_input": "2023-08-10T10:57:54.368540Z",
          "iopub.status.busy": "2023-08-10T10:57:54.368215Z",
          "iopub.status.idle": "2023-08-10T10:57:54.371879Z",
          "shell.execute_reply": "2023-08-10T10:57:54.371364Z",
          "shell.execute_reply.started": "2023-08-10T10:57:54.368521Z"
        },
        "id": "41e54ddd-145d-49c3-ade4-4a46dc34e07b",
        "tags": []
      },
      "outputs": [],
      "source": [
        "def search_relevant_context(question, topk=1, client=dashvector_client):\n",
        "    # query and recall the relevant information\n",
        "    collection = client.get(collection_name)\n",
        "\n",
        "    # recall the top k similarity results from DashVector\n",
        "    rsp = collection.query(generate_embeddings(question), output_fields=['raw'],\n",
        "                           topk=topk)\n",
        "    return \"\".join([item.fields['raw'] for item in rsp.output])"
      ]
    },
    {
      "cell_type": "markdown",
      "id": "OVoD2pNbJk0S",
      "metadata": {
        "id": "OVoD2pNbJk0S"
      },
      "source": [
        "## 基于LLM的问答"
      ]
    },
    {
      "cell_type": "code",
      "execution_count": 11,
      "id": "2f5a1bcb-e83a-44d3-bbe4-f97437782a3b",
      "metadata": {
        "ExecutionIndicator": {
          "show": false
        },
        "execution": {
          "iopub.execute_input": "2023-08-10T10:41:01.761863Z",
          "iopub.status.busy": "2023-08-10T10:41:01.761502Z",
          "iopub.status.idle": "2023-08-10T10:41:01.765849Z",
          "shell.execute_reply": "2023-08-10T10:41:01.765318Z",
          "shell.execute_reply.started": "2023-08-10T10:41:01.761842Z"
        },
        "id": "2f5a1bcb-e83a-44d3-bbe4-f97437782a3b",
        "tags": []
      },
      "outputs": [],
      "source": [
        "import dashscope\n",
        "import textwrap\n",
        "from dashscope import Generation\n",
        "\n",
        "# define a prompt template for the vectorDB-enhanced LLM generation\n",
        "def answer_question(model_name, question, context):\n",
        "    prompt = f'''请基于```内的内容回答问题。\"\n",
        "\t```\n",
        "\t{context}\n",
        "\t```\n",
        "\t我的问题是：{question}。\n",
        "    '''\n",
        "    response = Generation.call(\n",
        "      model= model_name,\n",
        "      prompt=prompt\n",
        "    )\n",
        "    # print(prompt)\n",
        "    return response.output['text']"
      ]
    },
    {
      "cell_type": "markdown",
      "id": "TQtuoDzPJq7Q",
      "metadata": {
        "id": "TQtuoDzPJq7Q"
      },
      "source": [
        "## 原生LLM问题问答（无知识库检索增强）"
      ]
    },
    {
      "cell_type": "code",
      "execution_count": 12,
      "id": "75ac8f4a-a861-4376-9e55-ebefef9a9cd6",
      "metadata": {
        "ExecutionIndicator": {
          "show": true
        },
        "colab": {
          "base_uri": "https://localhost:8080/"
        },
        "execution": {
          "iopub.execute_input": "2023-08-10T10:41:29.070090Z",
          "iopub.status.busy": "2023-08-10T10:41:29.069778Z",
          "iopub.status.idle": "2023-08-10T10:41:31.613198Z",
          "shell.execute_reply": "2023-08-10T10:41:31.612421Z",
          "shell.execute_reply.started": "2023-08-10T10:41:29.070073Z"
        },
        "id": "75ac8f4a-a861-4376-9e55-ebefef9a9cd6",
        "outputId": "b50f4bca-0c36-4eae-d887-85ae8fe72034",
        "tags": []
      },
      "outputs": [
        {
          "name": "stdout",
          "output_type": "stream",
          "text": [
            "问题: 海南安定追尾事故，发生在哪里？原因是什么？人员伤亡情况如何？\n",
            "回答: 很抱歉，我无法提供关于该事故的最新信息。请您查阅可靠的新闻来源以获取最新信息。\n"
          ]
        }
      ],
      "source": [
        "# test Q&A on plain LLM without vectorDB enhancement\n",
        "model_name = 'qwen-7b-chat-v1'\n",
        "question = '海南安定追尾事故，发生在哪里？原因是什么？人员伤亡情况如何？'\n",
        "answer = answer_question(model_name, question, '')\n",
        "print(f'问题: {question}\\n' f'回答: {textwrap.fill(answer, width=50)}')"
      ]
    },
    {
      "cell_type": "markdown",
      "id": "1jaJl9AHJ0z5",
      "metadata": {
        "id": "1jaJl9AHJ0z5"
      },
      "source": [
        "## 基于知识库的LLM问题问答（利用DashVector的检索增强）"
      ]
    },
    {
      "cell_type": "code",
      "execution_count": 13,
      "id": "eca328fc-cd69-4e12-8448-f426f3314414",
      "metadata": {
        "ExecutionIndicator": {
          "show": false
        },
        "colab": {
          "base_uri": "https://localhost:8080/"
        },
        "execution": {
          "iopub.execute_input": "2023-08-10T10:41:34.268896Z",
          "iopub.status.busy": "2023-08-10T10:41:34.268585Z",
          "iopub.status.idle": "2023-08-10T10:41:37.750128Z",
          "shell.execute_reply": "2023-08-10T10:41:37.749414Z",
          "shell.execute_reply.started": "2023-08-10T10:41:34.268878Z"
        },
        "id": "eca328fc-cd69-4e12-8448-f426f3314414",
        "outputId": "2415a1e8-8f7c-46d8-f0c9-ae829667c0bf",
        "tags": []
      },
      "outputs": [
        {
          "name": "stdout",
          "output_type": "stream",
          "text": [
            "问题: 海南安定追尾事故，发生在哪里？原因是什么？人员伤亡情况如何？\n",
            "回答: 海南安定追尾事故发生在海南省定安县境内，环岛东线高速公路海口往三亚方向53公里处。原因是琼AB711\n",
            "9小轿车驾驶人追尾所致。该事故造成小轿车人员5人当场死亡，其中一人为未成年人。\n"
          ]
        }
      ],
      "source": [
        "# test Q&A with knowledge enhancement through DashVector\n",
        "context = search_relevant_context(question, topk=2)\n",
        "answer = answer_question(model_name, question, context)\n",
        "print(f'问题: {question}\\n' f'回答: {textwrap.fill(answer, width=50)}')"
      ]
    }
  ],
  "metadata": {
    "colab": {
      "provenance": []
    },
    "kernelspec": {
      "display_name": "Python 3 (ipykernel)",
      "language": "python",
      "name": "python3"
    },
    "language_info": {
      "codemirror_mode": {
        "name": "ipython",
        "version": 3
      },
      "file_extension": ".py",
      "mimetype": "text/x-python",
      "name": "python",
      "nbconvert_exporter": "python",
      "pygments_lexer": "ipython3",
      "version": "3.8.16"
    }
  },
  "nbformat": 4,
  "nbformat_minor": 5
}
