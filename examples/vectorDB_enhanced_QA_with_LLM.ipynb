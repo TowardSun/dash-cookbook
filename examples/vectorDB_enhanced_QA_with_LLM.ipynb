{
  "cells": [
    {
      "cell_type": "markdown",
      "id": "j0lV5ZZcH5za",
      "metadata": {
        "id": "j0lV5ZZcH5za"
      },
      "source": [
        "##  安装DashScope和DashVector Python SDK"
      ]
    },
    {
      "cell_type": "code",
      "execution_count": 1,
      "id": "04d4165c-fab2-4f54-9b50-11d53917d785",
      "metadata": {
        "ExecutionIndicator": {
          "show": true
        },
        "colab": {
          "base_uri": "https://localhost:8080/"
        },
        "id": "04d4165c-fab2-4f54-9b50-11d53917d785",
        "outputId": "4eb37b88-cdd6-4c3f-b024-ed993459f7f5",
        "tags": []
      },
      "outputs": [
        {
          "output_type": "stream",
          "name": "stdout",
          "text": [
            "Collecting dashvector\n",
            "  Downloading dashvector-1.0.1-py3-none-any.whl (91 kB)\n",
            "\u001b[2K     \u001b[90m━━━━━━━━━━━━━━━━━━━━━━━━━━━━━━━━━━━━━━━━\u001b[0m \u001b[32m91.3/91.3 kB\u001b[0m \u001b[31m2.4 MB/s\u001b[0m eta \u001b[36m0:00:00\u001b[0m\n",
            "\u001b[?25hCollecting dashscope\n",
            "  Downloading dashscope-1.7.2-py3-none-any.whl (60 kB)\n",
            "\u001b[2K     \u001b[90m━━━━━━━━━━━━━━━━━━━━━━━━━━━━━━━━━━━━━━━━\u001b[0m \u001b[32m60.0/60.0 kB\u001b[0m \u001b[31m7.4 MB/s\u001b[0m eta \u001b[36m0:00:00\u001b[0m\n",
            "\u001b[?25hRequirement already satisfied: numpy in /usr/local/lib/python3.10/dist-packages (from dashvector) (1.23.5)\n",
            "Requirement already satisfied: protobuf<4.0.0,>=3.8.0 in /usr/local/lib/python3.10/dist-packages (from dashvector) (3.20.3)\n",
            "Requirement already satisfied: aiohttp>=3.1.0 in /usr/local/lib/python3.10/dist-packages (from dashvector) (3.8.5)\n",
            "Requirement already satisfied: grpcio>=1.22.0 in /usr/local/lib/python3.10/dist-packages (from dashvector) (1.57.0)\n",
            "Requirement already satisfied: requests in /usr/local/lib/python3.10/dist-packages (from dashscope) (2.31.0)\n",
            "Requirement already satisfied: attrs>=17.3.0 in /usr/local/lib/python3.10/dist-packages (from aiohttp>=3.1.0->dashvector) (23.1.0)\n",
            "Requirement already satisfied: charset-normalizer<4.0,>=2.0 in /usr/local/lib/python3.10/dist-packages (from aiohttp>=3.1.0->dashvector) (3.2.0)\n",
            "Requirement already satisfied: multidict<7.0,>=4.5 in /usr/local/lib/python3.10/dist-packages (from aiohttp>=3.1.0->dashvector) (6.0.4)\n",
            "Requirement already satisfied: async-timeout<5.0,>=4.0.0a3 in /usr/local/lib/python3.10/dist-packages (from aiohttp>=3.1.0->dashvector) (4.0.3)\n",
            "Requirement already satisfied: yarl<2.0,>=1.0 in /usr/local/lib/python3.10/dist-packages (from aiohttp>=3.1.0->dashvector) (1.9.2)\n",
            "Requirement already satisfied: frozenlist>=1.1.1 in /usr/local/lib/python3.10/dist-packages (from aiohttp>=3.1.0->dashvector) (1.4.0)\n",
            "Requirement already satisfied: aiosignal>=1.1.2 in /usr/local/lib/python3.10/dist-packages (from aiohttp>=3.1.0->dashvector) (1.3.1)\n",
            "Requirement already satisfied: idna<4,>=2.5 in /usr/local/lib/python3.10/dist-packages (from requests->dashscope) (3.4)\n",
            "Requirement already satisfied: urllib3<3,>=1.21.1 in /usr/local/lib/python3.10/dist-packages (from requests->dashscope) (2.0.4)\n",
            "Requirement already satisfied: certifi>=2017.4.17 in /usr/local/lib/python3.10/dist-packages (from requests->dashscope) (2023.7.22)\n",
            "Installing collected packages: dashvector, dashscope\n",
            "Successfully installed dashscope-1.7.2 dashvector-1.0.1\n"
          ]
        }
      ],
      "source": [
        "# install required packages\n",
        "!pip install dashvector dashscope"
      ]
    },
    {
      "cell_type": "markdown",
      "id": "gYSx-KX5IZnB",
      "metadata": {
        "id": "gYSx-KX5IZnB"
      },
      "source": [
        "## 下载数据"
      ]
    },
    {
      "cell_type": "code",
      "execution_count": 7,
      "id": "0ca135ac-b1b0-47b9-ad25-a0d11ac884f3",
      "metadata": {
        "colab": {
          "base_uri": "https://localhost:8080/"
        },
        "id": "0ca135ac-b1b0-47b9-ad25-a0d11ac884f3",
        "outputId": "08ed170d-fa50-44d4-b3dc-7da5d70aba34",
        "tags": []
      },
      "outputs": [
        {
          "output_type": "stream",
          "name": "stdout",
          "text": [
            "Cloning into 'CEC-Corpus'...\n",
            "remote: Enumerating objects: 1278, done.\u001b[K\n",
            "remote: Total 1278 (delta 0), reused 0 (delta 0), pack-reused 1278\u001b[K\n",
            "Receiving objects: 100% (1278/1278), 1.19 MiB | 3.35 MiB/s, done.\n",
            "Resolving deltas: 100% (371/371), done.\n"
          ]
        }
      ],
      "source": [
        "# prepare news corpus as knowledge source\n",
        "!git clone https://github.com/shijiebei2009/CEC-Corpus.git"
      ]
    },
    {
      "cell_type": "markdown",
      "id": "dynSJAdfIjOS",
      "metadata": {
        "id": "dynSJAdfIjOS"
      },
      "source": [
        "## 配置DashScope API key以及初始化向量数据库DashVector"
      ]
    },
    {
      "cell_type": "code",
      "execution_count": 2,
      "id": "728a2bf5-905c-48ef-b70a-be53d4f8fcc0",
      "metadata": {
        "ExecutionIndicator": {
          "show": false
        },
        "execution": {
          "iopub.execute_input": "2023-08-10T10:32:15.429699Z",
          "iopub.status.busy": "2023-08-10T10:32:15.429291Z",
          "iopub.status.idle": "2023-08-10T10:32:16.076518Z",
          "shell.execute_reply": "2023-08-10T10:32:16.075949Z",
          "shell.execute_reply.started": "2023-08-10T10:32:15.429679Z"
        },
        "id": "728a2bf5-905c-48ef-b70a-be53d4f8fcc0",
        "tags": []
      },
      "outputs": [],
      "source": [
        "import dashscope\n",
        "import os\n",
        "from dashscope import TextEmbedding\n",
        "from dashvector import Client, Doc\n",
        "\n",
        "# [Note: get your DashScope API key here first: https://dashscope.console.aliyun.com/apiKey]\n",
        "dashscope.api_key='YOUR-DASHSCOPE-API-KEY'\n",
        "\n",
        "\n",
        "# 初始化 DashVector client\n",
        "# [Note: get your DashVector API key here first: https://dashvector.console.aliyun.com/cn-hangzhou/api-key]\n",
        "dashvector_client = Client(api_key='YOUR-DASHVECTOR-API-KEY')\n",
        "\n",
        "\n",
        "# define collection name\n",
        "collection_name = 'news_embeddings'\n",
        "\n",
        "# delete if already exist\n",
        "dashvector_client.delete(collection_name)\n",
        "\n",
        "# create a collection with embedding size of 1536\n",
        "collection_dimension = 1536\n",
        "rsp = dashvector_client.create(collection_name, collection_dimension)\n",
        "collection = dashvector_client.get(collection_name)\n"
      ]
    },
    {
      "cell_type": "markdown",
      "id": "sjVviucaI_4O",
      "metadata": {
        "id": "sjVviucaI_4O"
      },
      "source": [
        "## 数据读取"
      ]
    },
    {
      "cell_type": "code",
      "execution_count": 3,
      "id": "558b64ab-1fdf-4339-8368-97e67bef8159",
      "metadata": {
        "ExecutionIndicator": {
          "show": false
        },
        "execution": {
          "iopub.execute_input": "2023-08-10T10:57:43.451192Z",
          "iopub.status.busy": "2023-08-10T10:57:43.450893Z",
          "iopub.status.idle": "2023-08-10T10:57:43.454858Z",
          "shell.execute_reply": "2023-08-10T10:57:43.454244Z",
          "shell.execute_reply.started": "2023-08-10T10:57:43.451173Z"
        },
        "id": "558b64ab-1fdf-4339-8368-97e67bef8159",
        "tags": []
      },
      "outputs": [],
      "source": [
        "def prepare_data_from_dir(path, size):\n",
        "    # prepare the data from a file folder in order to upsert to DashVector with a reasonable doc's size.\n",
        "    batch_docs = []\n",
        "    for file in os.listdir(path):\n",
        "        with open(path + '/' + file, 'r', encoding='utf-8') as f:\n",
        "            batch_docs.append(f.read())\n",
        "            if len(batch_docs) == size:\n",
        "                yield batch_docs[:]\n",
        "                batch_docs.clear()\n",
        "\n",
        "    if batch_docs:\n",
        "        yield batch_docs"
      ]
    },
    {
      "cell_type": "code",
      "execution_count": 4,
      "id": "d65c0f3f-a080-4803-b5ed-f4e641a96db2",
      "metadata": {
        "ExecutionIndicator": {
          "show": false
        },
        "execution": {
          "iopub.execute_input": "2023-08-10T10:57:44.615001Z",
          "iopub.status.busy": "2023-08-10T10:57:44.614690Z",
          "iopub.status.idle": "2023-08-10T10:57:44.618899Z",
          "shell.execute_reply": "2023-08-10T10:57:44.618418Z",
          "shell.execute_reply.started": "2023-08-10T10:57:44.614979Z"
        },
        "id": "d65c0f3f-a080-4803-b5ed-f4e641a96db2",
        "tags": []
      },
      "outputs": [],
      "source": [
        "def prepare_data_from_file(path, size):\n",
        "    # prepare the data from file in order to upsert to DashVector with a reasonable doc's size.\n",
        "    batch_docs = []\n",
        "    chunk_size = 12\n",
        "    with open(path, 'r', encoding='utf-8') as f:\n",
        "        doc = ''\n",
        "        count = 0\n",
        "        for line in f:\n",
        "            if count < chunk_size and line.strip() != '':\n",
        "                doc += line\n",
        "                count += 1\n",
        "            if count == chunk_size:\n",
        "                batch_docs.append(doc)\n",
        "                if len(batch_docs) == size:\n",
        "                    yield batch_docs[:]\n",
        "                    batch_docs.clear()\n",
        "                doc = ''\n",
        "                count = 0\n",
        "\n",
        "    if batch_docs:\n",
        "        yield batch_docs"
      ]
    },
    {
      "cell_type": "markdown",
      "id": "AJocdvLeJImp",
      "metadata": {
        "id": "AJocdvLeJImp"
      },
      "source": [
        "## 利用Embedding API生成文本向量"
      ]
    },
    {
      "cell_type": "code",
      "execution_count": 5,
      "id": "aded6eec-1f05-479e-9f0e-3ce63872a07b",
      "metadata": {
        "ExecutionIndicator": {
          "show": true
        },
        "execution": {
          "iopub.execute_input": "2023-08-10T10:57:46.210192Z",
          "iopub.status.busy": "2023-08-10T10:57:46.209870Z",
          "iopub.status.idle": "2023-08-10T10:57:46.214412Z",
          "shell.execute_reply": "2023-08-10T10:57:46.213625Z",
          "shell.execute_reply.started": "2023-08-10T10:57:46.210172Z"
        },
        "id": "aded6eec-1f05-479e-9f0e-3ce63872a07b",
        "tags": []
      },
      "outputs": [],
      "source": [
        "def generate_embeddings(docs):\n",
        "    # create embeddings via DashScope's TextEmbedding model API\n",
        "    rsp = TextEmbedding.call(model=TextEmbedding.Models.text_embedding_v1,\n",
        "                             input=docs)\n",
        "    embeddings = [record['embedding'] for record in rsp.output['embeddings']]\n",
        "    return embeddings if isinstance(docs, list) else embeddings[0]"
      ]
    },
    {
      "cell_type": "markdown",
      "id": "0GVun-c_JO0X",
      "metadata": {
        "id": "0GVun-c_JO0X"
      },
      "source": [
        "## 向量入库(使用batch 插入方式进入DashVector)"
      ]
    },
    {
      "cell_type": "code",
      "execution_count": 8,
      "id": "5c0ba7e1-001f-4bb9-9bdb-7eb318bc3550",
      "metadata": {
        "ExecutionIndicator": {
          "show": true
        },
        "colab": {
          "base_uri": "https://localhost:8080/"
        },
        "id": "5c0ba7e1-001f-4bb9-9bdb-7eb318bc3550",
        "outputId": "eeecf75e-4192-47ed-b125-a8f4843a9bb5",
        "tags": []
      },
      "outputs": [
        {
          "output_type": "stream",
          "name": "stdout",
          "text": [
            "{\"code\": 0, \"message\": \"Success\", \"requests_id\": \"2b7b915f-9f7a-48b4-93a3-33668fe13ff1\"}\n",
            "{\"code\": 0, \"message\": \"Success\", \"requests_id\": \"e2243189-8bf3-4091-880d-407e1edde153\"}\n",
            "{\"code\": 0, \"message\": \"Success\", \"requests_id\": \"75899f5e-7479-4030-b50a-c5600a38d090\"}\n",
            "{\"code\": 0, \"message\": \"Success\", \"requests_id\": \"c2eef624-18be-44e1-ae14-80abf40c5c64\"}\n",
            "{\"code\": 0, \"message\": \"Success\", \"requests_id\": \"9ce08195-6a42-4dc4-ade2-eebe63c9a63b\"}\n",
            "{\"code\": 0, \"message\": \"Success\", \"requests_id\": \"0c07b224-29a6-48b4-b64d-d6fb22a4111a\"}\n",
            "{\"code\": 0, \"message\": \"Success\", \"requests_id\": \"e503f192-9200-47a1-90ba-a408eacac732\"}\n",
            "{\"code\": 0, \"message\": \"Success\", \"requests_id\": \"6a215d35-e0a3-49d6-ba06-9e99a5a2b084\"}\n",
            "{\"code\": 0, \"message\": \"Success\", \"requests_id\": \"2af5cfcd-8f22-4120-b023-fb088b78de2e\"}\n",
            "{\"code\": 0, \"message\": \"Success\", \"requests_id\": \"ca9420cc-24db-4140-95b9-923bb02905ee\"}\n",
            "{\"code\": 0, \"message\": \"Success\", \"requests_id\": \"a364b991-101d-4d97-86aa-b3757c2564a1\"}\n",
            "{\"code\": 0, \"message\": \"Success\", \"requests_id\": \"1f2751c7-ebf5-4984-be73-6771db30ace6\"}\n",
            "{\"code\": 0, \"message\": \"Success\", \"requests_id\": \"467285ac-4852-4787-b841-a709be453b15\"}\n",
            "{\"code\": 0, \"message\": \"Success\", \"requests_id\": \"a8abb5cc-6b16-4a45-a9f3-d971c84fec18\"}\n",
            "{\"code\": 0, \"message\": \"Success\", \"requests_id\": \"f8438186-8da6-4b14-b5a9-c3ab42a5f2f9\"}\n",
            "{\"code\": 0, \"message\": \"Success\", \"requests_id\": \"62ed0012-a433-4b6b-a72f-0e8a6886d10e\"}\n",
            "{\"code\": 0, \"message\": \"Success\", \"requests_id\": \"ee77b842-7e65-4563-bc56-ee5639d72366\"}\n"
          ]
        }
      ],
      "source": [
        "# create embeddings and insert them into DashVector.\n",
        "# Note: this may take a while to run.\n",
        "\n",
        "id = 0\n",
        "dir_name = 'CEC-Corpus/raw corpus/allSourceText'\n",
        "\n",
        "# indexing the raw docs with index to DashVector\n",
        "collection = dashvector_client.get(collection_name)\n",
        "\n",
        "# choose batch size of 20\n",
        "batch_size = 20\n",
        "\n",
        "for news in list(prepare_data_from_dir(dir_name, batch_size)):\n",
        "    ids = [id + i for i, _ in enumerate(news)]\n",
        "    id += len(news)\n",
        "    # generate embedding from raw docs\n",
        "    vectors = generate_embeddings(news)\n",
        "    # upsert and index\n",
        "    ret = collection.upsert(\n",
        "        [\n",
        "            Doc(id=str(id), vector=vector, fields={\"raw\": doc})\n",
        "            for id, doc, vector in zip(ids, news, vectors)\n",
        "        ]\n",
        "    )\n",
        "    print(ret)\n"
      ]
    },
    {
      "cell_type": "code",
      "execution_count": 9,
      "id": "53bed7e4-35be-4df6-8775-7d62fcdb6457",
      "metadata": {
        "ExecutionIndicator": {
          "show": true
        },
        "colab": {
          "base_uri": "https://localhost:8080/"
        },
        "id": "53bed7e4-35be-4df6-8775-7d62fcdb6457",
        "outputId": "90ad0b23-d8cb-4cf2-83d7-71e2acd8ca13",
        "tags": []
      },
      "outputs": [
        {
          "output_type": "stream",
          "name": "stdout",
          "text": [
            "{\"code\": 0, \"message\": \"Success\", \"requests_id\": \"60322db2-259f-46ec-81de-de64f1e1e190\", \"output\": {\"total_doc_count\": 332, \"index_completeness\": 1.0, \"partitions\": {\"default\": {\"total_doc_count\": 332}}}}\n"
          ]
        }
      ],
      "source": [
        "# check the collection status\n",
        "collection = dashvector_client.get(collection_name)\n",
        "rsp = collection.stats()\n",
        "print(rsp)"
      ]
    },
    {
      "cell_type": "markdown",
      "id": "CM2LhwjpJcNf",
      "metadata": {
        "id": "CM2LhwjpJcNf"
      },
      "source": [
        "## 向量检索(知识库检索)"
      ]
    },
    {
      "cell_type": "code",
      "execution_count": 10,
      "id": "41e54ddd-145d-49c3-ade4-4a46dc34e07b",
      "metadata": {
        "ExecutionIndicator": {
          "show": true
        },
        "execution": {
          "iopub.execute_input": "2023-08-10T10:57:54.368540Z",
          "iopub.status.busy": "2023-08-10T10:57:54.368215Z",
          "iopub.status.idle": "2023-08-10T10:57:54.371879Z",
          "shell.execute_reply": "2023-08-10T10:57:54.371364Z",
          "shell.execute_reply.started": "2023-08-10T10:57:54.368521Z"
        },
        "id": "41e54ddd-145d-49c3-ade4-4a46dc34e07b",
        "tags": []
      },
      "outputs": [],
      "source": [
        "def search_relevant_context(question, topk=1, client=dashvector_client):\n",
        "    # query and recall the relevant information\n",
        "    collection = client.get(collection_name)\n",
        "\n",
        "    # recall the top k similarity results from DashVector\n",
        "    rsp = collection.query(generate_embeddings(question), output_fields=['raw'],\n",
        "                           topk=topk)\n",
        "    return \"\".join([item.fields['raw'] for item in rsp.output])"
      ]
    },
    {
      "cell_type": "markdown",
      "id": "OVoD2pNbJk0S",
      "metadata": {
        "id": "OVoD2pNbJk0S"
      },
      "source": [
        "## 基于LLM的问答"
      ]
    },
    {
      "cell_type": "code",
      "execution_count": 34,
      "id": "2f5a1bcb-e83a-44d3-bbe4-f97437782a3b",
      "metadata": {
        "ExecutionIndicator": {
          "show": false
        },
        "execution": {
          "iopub.execute_input": "2023-08-10T10:41:01.761863Z",
          "iopub.status.busy": "2023-08-10T10:41:01.761502Z",
          "iopub.status.idle": "2023-08-10T10:41:01.765849Z",
          "shell.execute_reply": "2023-08-10T10:41:01.765318Z",
          "shell.execute_reply.started": "2023-08-10T10:41:01.761842Z"
        },
        "id": "2f5a1bcb-e83a-44d3-bbe4-f97437782a3b",
        "tags": []
      },
      "outputs": [],
      "source": [
        "import textwrap\n",
        "from dashscope import Generation\n",
        "\n",
        "# format prompt for different LLMs\n",
        "def format_prompt(model_name, prompt):\n",
        "    # special treatment for ziya-family of models\n",
        "    if model_name.startswith('ziya'):\n",
        "        return f'<human>:{prompt}\\n<bot>:'\n",
        "    return prompt\n",
        "\n",
        "# format history for different LLMs\n",
        "def format_history(model_name):\n",
        "    # special treatment for chatglm-family of models\n",
        "    if model_name.startswith('chatglm'):\n",
        "        return []\n",
        "    return None\n",
        "\n",
        "def format_answer(model_name, response):\n",
        "    try:\n",
        "      # special treatment for chatglm-family of models\n",
        "      if model_name.startswith('chatglm'):\n",
        "          return response.output['text']['response']\n",
        "      return response.output['text']\n",
        "    except:\n",
        "        print(response)\n",
        "        raise\n",
        "\n",
        "\n",
        "# define a prompt template for the vectorDB-enhanced LLM generation\n",
        "def answer_question(model_name, question, context):\n",
        "    prompt = f'''请基于```内的内容回答问题。\"\n",
        "\t```\n",
        "\t{context}\n",
        "\t```\n",
        "\t我的问题是：{question}\n",
        "    '''\n",
        "    formatted_prompt = format_prompt(model_name=model_name, prompt=prompt)\n",
        "    history = format_history(model_name)\n",
        "\n",
        "    response = Generation.call(\n",
        "      model= model_name,\n",
        "      prompt=formatted_prompt,\n",
        "      history = history\n",
        "    )\n",
        "    #print(prompt)\n",
        "    answer = format_answer(model_name, response)\n",
        "    return answer"
      ]
    },
    {
      "cell_type": "markdown",
      "id": "TQtuoDzPJq7Q",
      "metadata": {
        "id": "TQtuoDzPJq7Q"
      },
      "source": [
        "## 原生LLM问题问答（无知识库检索增强）"
      ]
    },
    {
      "cell_type": "code",
      "execution_count": 41,
      "id": "75ac8f4a-a861-4376-9e55-ebefef9a9cd6",
      "metadata": {
        "ExecutionIndicator": {
          "show": true
        },
        "colab": {
          "base_uri": "https://localhost:8080/"
        },
        "execution": {
          "iopub.execute_input": "2023-08-10T10:41:29.070090Z",
          "iopub.status.busy": "2023-08-10T10:41:29.069778Z",
          "iopub.status.idle": "2023-08-10T10:41:31.613198Z",
          "shell.execute_reply": "2023-08-10T10:41:31.612421Z",
          "shell.execute_reply.started": "2023-08-10T10:41:29.070073Z"
        },
        "id": "75ac8f4a-a861-4376-9e55-ebefef9a9cd6",
        "outputId": "33c8b657-2e8b-45d9-97f2-0103568504a0",
        "tags": []
      },
      "outputs": [
        {
          "output_type": "stream",
          "name": "stdout",
          "text": [
            "问题: 海南安定追尾事故，发生在哪里？原因是什么？人员伤亡情况如何？\n",
            "回答: 很抱歉，我无法提供关于该事故的最新信息。请您查阅可靠的新闻来源以获取最新信息。\n"
          ]
        }
      ],
      "source": [
        "# test Q&A on plain LLM without vectorDB enhancement\n",
        "# candidate LLMs on DashScope include:\n",
        "# qwen-turo, chatglm-6b-v2, ziya-llama-13b-v1, baichuan-7b-v1, and more...\n",
        "model_name = 'qwen-turo'\n",
        "question = '海南安定追尾事故，发生在哪里？原因是什么？人员伤亡情况如何？'\n",
        "answer = answer_question(model_name, question, '')\n",
        "print(f'问题: {question}\\n' f'回答: {textwrap.fill(answer, width=50)}')"
      ]
    },
    {
      "cell_type": "markdown",
      "id": "1jaJl9AHJ0z5",
      "metadata": {
        "id": "1jaJl9AHJ0z5"
      },
      "source": [
        "## 基于知识库的LLM问题问答（利用DashVector的检索增强）"
      ]
    },
    {
      "cell_type": "code",
      "execution_count": 42,
      "id": "eca328fc-cd69-4e12-8448-f426f3314414",
      "metadata": {
        "ExecutionIndicator": {
          "show": false
        },
        "colab": {
          "base_uri": "https://localhost:8080/"
        },
        "execution": {
          "iopub.execute_input": "2023-08-10T10:41:34.268896Z",
          "iopub.status.busy": "2023-08-10T10:41:34.268585Z",
          "iopub.status.idle": "2023-08-10T10:41:37.750128Z",
          "shell.execute_reply": "2023-08-10T10:41:37.749414Z",
          "shell.execute_reply.started": "2023-08-10T10:41:34.268878Z"
        },
        "id": "eca328fc-cd69-4e12-8448-f426f3314414",
        "outputId": "1514ee74-4db2-4018-8f58-b0f0112316f4",
        "tags": []
      },
      "outputs": [
        {
          "output_type": "stream",
          "name": "stdout",
          "text": [
            "问题: 海南安定追尾事故，发生在哪里？原因是什么？人员伤亡情况如何？\n",
            "回答: 海南安定追尾事故发生在海南省定安县境内，环岛东线高速公路海口往三亚方向53公里处。原因是琼AB711\n",
            "9小轿车驾驶人追尾所致。该事故造成小轿车人员5人当场死亡，其中一人为未成年人。\n"
          ]
        }
      ],
      "source": [
        "# test Q&A with knowledge enhancement through DashVector\n",
        "context = search_relevant_context(question, topk=2)\n",
        "answer = answer_question(model_name, question, context)\n",
        "print(f'问题: {question}\\n' f'回答: {textwrap.fill(answer, width=50)}')"
      ]
    }
  ],
  "metadata": {
    "colab": {
      "provenance": []
    },
    "kernelspec": {
      "display_name": "Python 3 (ipykernel)",
      "language": "python",
      "name": "python3"
    },
    "language_info": {
      "codemirror_mode": {
        "name": "ipython",
        "version": 3
      },
      "file_extension": ".py",
      "mimetype": "text/x-python",
      "name": "python",
      "nbconvert_exporter": "python",
      "pygments_lexer": "ipython3",
      "version": "3.8.16"
    }
  },
  "nbformat": 4,
  "nbformat_minor": 5
}