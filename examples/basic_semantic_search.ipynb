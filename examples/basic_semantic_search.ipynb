{
 "nbformat": 4,
 "nbformat_minor": 0,
 "metadata": {
  "colab": {
   "provenance": []
  },
  "kernelspec": {
   "name": "python3",
   "language": "python",
   "display_name": "Python 3 (ipykernel)"
  },
  "language_info": {
   "name": "python"
  }
 },
 "cells": [
  {
   "cell_type": "markdown",
   "source": [
    "#  安装DashScope和DashVector Python SDK"
   ],
   "metadata": {
    "id": "JoX-Gm-Uw4zS"
   }
  },
  {
   "cell_type": "code",
   "execution_count": 1,
   "metadata": {
    "id": "OYizDkZptMUN",
    "colab": {
     "base_uri": "https://localhost:8080/"
    },
    "outputId": "b663a219-ac58-48e5-9ea0-59a67832137f"
   },
   "outputs": [
    {
     "output_type": "stream",
     "name": "stdout",
     "text": [
      "Collecting dashvector\n",
      "  Downloading dashvector-1.0.1-py3-none-any.whl (91 kB)\n",
      "\u001B[2K     \u001B[90m━━━━━━━━━━━━━━━━━━━━━━━━━━━━━━━━━━━━━━━━\u001B[0m \u001B[32m91.3/91.3 kB\u001B[0m \u001B[31m2.2 MB/s\u001B[0m eta \u001B[36m0:00:00\u001B[0m\n",
      "\u001B[?25hCollecting dashscope\n",
      "  Downloading dashscope-1.7.2-py3-none-any.whl (60 kB)\n",
      "\u001B[2K     \u001B[90m━━━━━━━━━━━━━━━━━━━━━━━━━━━━━━━━━━━━━━━━\u001B[0m \u001B[32m60.0/60.0 kB\u001B[0m \u001B[31m5.6 MB/s\u001B[0m eta \u001B[36m0:00:00\u001B[0m\n",
      "\u001B[?25hRequirement already satisfied: numpy in /usr/local/lib/python3.10/dist-packages (from dashvector) (1.23.5)\n",
      "Requirement already satisfied: protobuf<4.0.0,>=3.8.0 in /usr/local/lib/python3.10/dist-packages (from dashvector) (3.20.3)\n",
      "Requirement already satisfied: aiohttp>=3.1.0 in /usr/local/lib/python3.10/dist-packages (from dashvector) (3.8.5)\n",
      "Requirement already satisfied: grpcio>=1.22.0 in /usr/local/lib/python3.10/dist-packages (from dashvector) (1.57.0)\n",
      "Requirement already satisfied: requests in /usr/local/lib/python3.10/dist-packages (from dashscope) (2.31.0)\n",
      "Requirement already satisfied: attrs>=17.3.0 in /usr/local/lib/python3.10/dist-packages (from aiohttp>=3.1.0->dashvector) (23.1.0)\n",
      "Requirement already satisfied: charset-normalizer<4.0,>=2.0 in /usr/local/lib/python3.10/dist-packages (from aiohttp>=3.1.0->dashvector) (3.2.0)\n",
      "Requirement already satisfied: multidict<7.0,>=4.5 in /usr/local/lib/python3.10/dist-packages (from aiohttp>=3.1.0->dashvector) (6.0.4)\n",
      "Requirement already satisfied: async-timeout<5.0,>=4.0.0a3 in /usr/local/lib/python3.10/dist-packages (from aiohttp>=3.1.0->dashvector) (4.0.3)\n",
      "Requirement already satisfied: yarl<2.0,>=1.0 in /usr/local/lib/python3.10/dist-packages (from aiohttp>=3.1.0->dashvector) (1.9.2)\n",
      "Requirement already satisfied: frozenlist>=1.1.1 in /usr/local/lib/python3.10/dist-packages (from aiohttp>=3.1.0->dashvector) (1.4.0)\n",
      "Requirement already satisfied: aiosignal>=1.1.2 in /usr/local/lib/python3.10/dist-packages (from aiohttp>=3.1.0->dashvector) (1.3.1)\n",
      "Requirement already satisfied: idna<4,>=2.5 in /usr/local/lib/python3.10/dist-packages (from requests->dashscope) (3.4)\n",
      "Requirement already satisfied: urllib3<3,>=1.21.1 in /usr/local/lib/python3.10/dist-packages (from requests->dashscope) (2.0.4)\n",
      "Requirement already satisfied: certifi>=2017.4.17 in /usr/local/lib/python3.10/dist-packages (from requests->dashscope) (2023.7.22)\n",
      "Installing collected packages: dashvector, dashscope\n",
      "Successfully installed dashscope-1.7.2 dashvector-1.0.1\n"
     ]
    }
   ],
   "source": [
    "!pip3 install dashvector dashscope"
   ]
  },
  {
   "cell_type": "markdown",
   "source": [
    "# 下载数据"
   ],
   "metadata": {
    "id": "H67CkJLQxMjH"
   }
  },
  {
   "cell_type": "code",
   "source": [
    "!git clone https://github.com/CLUEbenchmark/QBQTC.git\n",
    "!wc -l QBQTC/dataset/train.json"
   ],
   "metadata": {
    "colab": {
     "base_uri": "https://localhost:8080/"
    },
    "id": "cSgNDvWRtdJf",
    "outputId": "0977c418-e3ff-4911-be89-e59c816c9e36",
    "ExecuteTime": {
     "end_time": "2023-08-29T02:34:27.808976Z",
     "start_time": "2023-08-29T02:34:20.561376Z"
    }
   },
   "execution_count": 1,
   "outputs": [
    {
     "name": "stdout",
     "output_type": "stream",
     "text": [
      "Cloning into 'QBQTC'...\r\n",
      "remote: Enumerating objects: 228, done.\u001B[K\r\n",
      "remote: Counting objects: 100% (228/228), done.\u001B[K\r\n",
      "remote: Compressing objects: 100% (157/157), done.\u001B[K\r\n",
      "remote: Total 228 (delta 93), reused 180 (delta 58), pack-reused 0\u001B[Kobjects:  34% (79/228), 9.84 MiB | 2.82 MiB/sReceiving objects:  36% (83/228), 9.84 MiB | 2.82 MiB/sReceiving objects:  49% (112/228), 9.84 MiB | 2.82 MiB/s\r\n",
      "Receiving objects: 100% (228/228), 10.80 MiB | 2.88 MiB/s, done.\r\n",
      "Resolving deltas: 100% (93/93), done.\r\n",
      "  180000 QBQTC/dataset/train.json\r\n"
     ]
    }
   ]
  },
  {
   "cell_type": "markdown",
   "source": [
    "# 利用DashScope Text-Embedding API生成向量"
   ],
   "metadata": {
    "id": "lUwpQlSWxXwT"
   }
  },
  {
   "cell_type": "code",
   "source": [
    "import json\n",
    "\n",
    "def prepare_data(path, batch_size=25):\n",
    "    with open(path, 'r', encoding='utf-8') as f:\n",
    "        batch_docs = []\n",
    "        for line in f:\n",
    "            batch_docs.append(json.loads(line.strip()))\n",
    "            if len(batch_docs) == batch_size:\n",
    "                yield batch_docs\n",
    "                batch_docs = []\n",
    "\n",
    "        if batch_docs:\n",
    "            yield batch_docs\n",
    "\n",
    "import dashscope\n",
    "from dashscope import TextEmbedding\n",
    "\n",
    "# [Note: get your DashScope API key here first: https://dashscope.console.aliyun.com/apiKey]\n",
    "dashscope.api_key='YOUR-DASHSCOPE-API-KEY'\n",
    "\n",
    "def generate_embedding(texts):\n",
    "    # batch embedding\n",
    "    rsp = TextEmbedding.call(model=TextEmbedding.Models.text_embedding_v1,\n",
    "                             input=texts)\n",
    "    embeddings = [record['embedding'] for record in rsp.output['embeddings']]\n",
    "    return embeddings if isinstance(texts, list) else embeddings[0]\n",
    "\n",
    "# 查看下embedding向量的维数，后面使用 DashVector 检索服务时会用到，目前是1536\n",
    "print(len(generate_embedding('hello')))"
   ],
   "metadata": {
    "colab": {
     "base_uri": "https://localhost:8080/"
    },
    "id": "mSFbNNMztp7p",
    "outputId": "c4b460f8-2d0e-422b-f3db-88715f06c6d0"
   },
   "execution_count": null,
   "outputs": []
  },
  {
   "cell_type": "markdown",
   "source": [
    "# 向量入库"
   ],
   "metadata": {
    "id": "2qpIg-cpvwVQ"
   }
  },
  {
   "cell_type": "code",
   "source": [
    "from dashvector import Client, Doc\n",
    "\n",
    "# 初始化 DashVector client\n",
    "# [Note: get your DashVector API key here first: https://dashvector.console.aliyun.com/cn-hangzhou/api-key]\n",
    "client = Client(api_key='YOUR-DASHVECTOR-API-KEY')\n",
    "\n",
    "# 指定集合名称和向量维度\n",
    "# DashScope text_embedding_v1 模型输出的向量维度固定为1536\n",
    "dimension = 1536\n",
    "client.create('sample', dimension)\n",
    "\n",
    "# 写入数据\n",
    "collection = client.get('sample')\n",
    "for docs in list(prepare_data('QBQTC/dataset/train.json'))[:10]:\n",
    "    embeddings = generate_embedding([doc['title'] for doc in docs])\n",
    "\n",
    "    rsp = collection.insert(\n",
    "        [\n",
    "            Doc(id=str(doc['id']), vector=embedding, fields={\"title\": doc['title']})\n",
    "            for doc, embedding in zip(docs, embeddings)\n",
    "        ]\n",
    "    )\n",
    "    assert rsp"
   ],
   "metadata": {
    "id": "2NKUV0uauLu6",
    "ExecuteTime": {
     "end_time": "2023-08-29T02:48:07.091037Z",
     "start_time": "2023-08-29T02:47:48.259384Z"
    }
   },
   "execution_count": 16,
   "outputs": []
  },
  {
   "cell_type": "markdown",
   "source": [
    "# 基于向量查询的语义搜索"
   ],
   "metadata": {
    "id": "0S9jtZKbySah"
   }
  },
  {
   "cell_type": "code",
   "source": [
    "# 基于向量检索的语义搜索\n",
    "collection = client.get('sample')\n",
    "query = '应届生 招聘'\n",
    "rsp = collection.query(generate_embedding(query), topk = 5, output_fields=['title'])\n",
    "print('与查询[' + query + '] 语义相近的数据(top 5)：')\n",
    "for doc in rsp:\n",
    "    print(f\"id: {doc.id}, title: {doc.fields['title']}, score: {doc.score}\")"
   ],
   "metadata": {
    "id": "UVxyJ7Rnygq_",
    "colab": {
     "base_uri": "https://localhost:8080/"
    },
    "outputId": "06ee6259-2c75-4849-cadd-6ca2ca272e66",
    "ExecuteTime": {
     "end_time": "2023-08-29T02:49:04.082802Z",
     "start_time": "2023-08-29T02:49:03.800564Z"
    }
   },
   "execution_count": 18,
   "outputs": [
    {
     "name": "stdout",
     "output_type": "stream",
     "text": [
      "与查询[应届生 招聘] 语义相近的数据(top 5)：\n",
      "id: 0, title: 实习生招聘-应届生求职网, score: 0.2136\n",
      "id: 25, title: 中国银行2016年校园招聘, score: 0.4792\n",
      "id: 233, title: 广西环球集团2012招聘广西校园招聘, score: 0.662\n",
      "id: 107, title: 2013上半年九江事业单位批入围入围面试名单九江中公教育, score: 0.665\n",
      "id: 104, title: 创意招聘海报-足彩310, score: 0.6678\n"
     ]
    }
   ]
  }
 ]
}
