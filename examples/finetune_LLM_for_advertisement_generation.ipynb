{
 "cells": [
  {
   "attachments": {},
   "cell_type": "markdown",
   "metadata": {
    "id": "JoX-Gm-Uw4zS"
   },
   "source": [
    "# 广告文案模型定制\n",
    "\n",
    "使用广告文案数据来定制LLM，使得LLM能够根据服饰描述来自动生成广告文案。DashScope微调定制API可参见[参考文档](https://help.aliyun.com/zh/dashscope/developer-reference/quick-start-16)。"
   ]
  },
  {
   "attachments": {},
   "cell_type": "markdown",
   "metadata": {},
   "source": [
    "##  安装DashScope Python SDK"
   ]
  },
  {
   "cell_type": "code",
   "execution_count": 1,
   "metadata": {
    "colab": {
     "base_uri": "https://localhost:8080/"
    },
    "id": "OYizDkZptMUN",
    "outputId": "b663a219-ac58-48e5-9ea0-59a67832137f"
   },
   "outputs": [
    {
     "name": "stdout",
     "output_type": "stream",
     "text": [
      "Looking in indexes: https://mirrors.aliyun.com/pypi/simple\n",
      "Looking in links: https://modelscope.oss-cn-beijing.aliyuncs.com/releases/repo.html\n",
      "Requirement already satisfied: dashscope in /apsarapangu/disk2/wenmeng.zwm/anaconda2/envs/maas-py37/lib/python3.7/site-packages (1.9.0)\n",
      "Requirement already satisfied: aiohttp in /apsarapangu/disk2/wenmeng.zwm/anaconda2/envs/maas-py37/lib/python3.7/site-packages (from dashscope) (3.8.3)\n",
      "Requirement already satisfied: requests in /apsarapangu/disk2/wenmeng.zwm/anaconda2/envs/maas-py37/lib/python3.7/site-packages (from dashscope) (2.28.1)\n",
      "Requirement already satisfied: charset-normalizer<3.0,>=2.0 in /apsarapangu/disk2/wenmeng.zwm/anaconda2/envs/maas-py37/lib/python3.7/site-packages (from aiohttp->dashscope) (2.1.1)\n",
      "Requirement already satisfied: yarl<2.0,>=1.0 in /apsarapangu/disk2/wenmeng.zwm/anaconda2/envs/maas-py37/lib/python3.7/site-packages (from aiohttp->dashscope) (1.8.2)\n",
      "Requirement already satisfied: frozenlist>=1.1.1 in /apsarapangu/disk2/wenmeng.zwm/anaconda2/envs/maas-py37/lib/python3.7/site-packages (from aiohttp->dashscope) (1.3.3)\n",
      "Requirement already satisfied: typing-extensions>=3.7.4 in /apsarapangu/disk2/wenmeng.zwm/anaconda2/envs/maas-py37/lib/python3.7/site-packages (from aiohttp->dashscope) (4.5.0)\n",
      "Requirement already satisfied: asynctest==0.13.0 in /apsarapangu/disk2/wenmeng.zwm/anaconda2/envs/maas-py37/lib/python3.7/site-packages (from aiohttp->dashscope) (0.13.0)\n",
      "Requirement already satisfied: multidict<7.0,>=4.5 in /apsarapangu/disk2/wenmeng.zwm/anaconda2/envs/maas-py37/lib/python3.7/site-packages (from aiohttp->dashscope) (6.0.3)\n",
      "Requirement already satisfied: attrs>=17.3.0 in /apsarapangu/disk2/wenmeng.zwm/anaconda2/envs/maas-py37/lib/python3.7/site-packages (from aiohttp->dashscope) (22.1.0)\n",
      "Requirement already satisfied: async-timeout<5.0,>=4.0.0a3 in /apsarapangu/disk2/wenmeng.zwm/anaconda2/envs/maas-py37/lib/python3.7/site-packages (from aiohttp->dashscope) (4.0.2)\n",
      "Requirement already satisfied: aiosignal>=1.1.2 in /apsarapangu/disk2/wenmeng.zwm/anaconda2/envs/maas-py37/lib/python3.7/site-packages (from aiohttp->dashscope) (1.3.1)\n",
      "Requirement already satisfied: urllib3<1.27,>=1.21.1 in /apsarapangu/disk2/wenmeng.zwm/anaconda2/envs/maas-py37/lib/python3.7/site-packages (from requests->dashscope) (1.26.13)\n",
      "Requirement already satisfied: idna<4,>=2.5 in /apsarapangu/disk2/wenmeng.zwm/anaconda2/envs/maas-py37/lib/python3.7/site-packages (from requests->dashscope) (3.4)\n",
      "Requirement already satisfied: certifi>=2017.4.17 in /apsarapangu/disk2/wenmeng.zwm/anaconda2/envs/maas-py37/lib/python3.7/site-packages (from requests->dashscope) (2022.9.24)\n",
      "\n",
      "\u001b[1m[\u001b[0m\u001b[34;49mnotice\u001b[0m\u001b[1;39;49m]\u001b[0m\u001b[39;49m A new release of pip is available: \u001b[0m\u001b[31;49m23.0\u001b[0m\u001b[39;49m -> \u001b[0m\u001b[32;49m23.2.1\u001b[0m\n",
      "\u001b[1m[\u001b[0m\u001b[34;49mnotice\u001b[0m\u001b[1;39;49m]\u001b[0m\u001b[39;49m To update, run: \u001b[0m\u001b[32;49mpip install --upgrade pip\u001b[0m\n"
     ]
    }
   ],
   "source": [
    "!pip install  dashscope"
   ]
  },
  {
   "attachments": {},
   "cell_type": "markdown",
   "metadata": {},
   "source": [
    "1. 请点击链接[模型定制申请链接](https://dashscope.console.aliyun.com/model?spm=a2c4g.11186623.0.0.456e40e9480Mzq&applyModel=llm-fine-tune) 申请模型定制权限\n",
    "\n",
    "2. 请打开[DashScope官网](https://dashscope.console.aliyun.com/apiKey)，获取你的DashScope API-KEY，并在下面代码块进行替换"
   ]
  },
  {
   "cell_type": "code",
   "execution_count": 1,
   "metadata": {},
   "outputs": [],
   "source": [
    "# [Note: get your DashScope API key here first: https://dashscope.console.aliyun.com/apiKey]\n",
    "import os\n",
    "os.environ['DASHSCOPE_API_KEY']='YOUR-DASHSCOPE-API-KEY'"
   ]
  },
  {
   "attachments": {},
   "cell_type": "markdown",
   "metadata": {
    "id": "H67CkJLQxMjH"
   },
   "source": [
    "## 数据处理"
   ]
  },
  {
   "attachments": {},
   "cell_type": "markdown",
   "metadata": {},
   "source": [
    "首先，下载广告文案数据，并解压"
   ]
  },
  {
   "cell_type": "code",
   "execution_count": null,
   "metadata": {
    "ExecuteTime": {
     "end_time": "2023-08-29T02:34:27.808976Z",
     "start_time": "2023-08-29T02:34:20.561376Z"
    },
    "colab": {
     "base_uri": "https://localhost:8080/"
    },
    "id": "cSgNDvWRtdJf",
    "outputId": "0977c418-e3ff-4911-be89-e59c816c9e36"
   },
   "outputs": [],
   "source": [
    "!wget https://dashscope.oss-cn-beijing.aliyuncs.com/samples/fine-tune/AdvertiseGen.tar.gz   && tar -zxf AdvertiseGen.tar.gz"
   ]
  },
  {
   "attachments": {},
   "cell_type": "markdown",
   "metadata": {},
   "source": [
    "查看原数据格式"
   ]
  },
  {
   "cell_type": "code",
   "execution_count": 1,
   "metadata": {},
   "outputs": [
    {
     "name": "stdout",
     "output_type": "stream",
     "text": [
      "{\"content\": \"类型#裤*版型#宽松*风格#性感*图案#线条*裤型#阔腿裤\", \"summary\": \"宽松的阔腿裤这两年真的吸粉不少，明星时尚达人的心头爱。毕竟好穿时尚，谁都能穿出腿长2米的效果宽松的裤腿，当然是遮肉小能手啊。上身随性自然不拘束，面料亲肤舒适贴身体验感棒棒哒。系带部分增加设计看点，还让单品的设计感更强。腿部线条若隐若现的，性感撩人。颜色敲温柔的，与裤子本身所呈现的风格有点反差萌。\"}\n",
      "{\"content\": \"类型#裙*风格#简约*图案#条纹*图案#线条*图案#撞色*裙型#鱼尾裙*裙袖长#无袖\", \"summary\": \"圆形领口修饰脖颈线条，适合各种脸型，耐看有气质。无袖设计，尤显清凉，简约横条纹装饰，使得整身人鱼造型更为生动立体。加之撞色的鱼尾下摆，深邃富有诗意。收腰包臀,修饰女性身体曲线，结合别出心裁的鱼尾裙摆设计，勾勒出自然流畅的身体轮廓，展现了婀娜多姿的迷人姿态。\"}\n",
      "{\"content\": \"类型#上衣*版型#宽松*颜色#粉红色*图案#字母*图案#文字*图案#线条*衣样式#卫衣*衣款式#不规则\", \"summary\": \"宽松的卫衣版型包裹着整个身材，宽大的衣身与身材形成鲜明的对比描绘出纤瘦的身形。下摆与袖口的不规则剪裁设计，彰显出时尚前卫的形态。被剪裁过的样式呈现出布条状自然地垂坠下来，别具有一番设计感。线条分明的字母样式有着花式的外观，棱角分明加上具有少女元气的枣红色十分有年轻活力感。粉红色的衣身把肌肤衬托得很白嫩又健康。\"}\n",
      "{\"content\": \"类型#裙*版型#宽松*材质#雪纺*风格#清新*裙型#a字*裙长#连衣裙\", \"summary\": \"踩着轻盈的步伐享受在午后的和煦风中，让放松与惬意感为你免去一身的压力与束缚，仿佛要将灵魂也寄托在随风摇曳的雪纺连衣裙上，吐露出<UNK>微妙而又浪漫的清新之意。宽松的a字版型除了能够带来足够的空间，也能以上窄下宽的方式强化立体层次，携带出自然优雅的曼妙体验。\"}\n",
      "{\"content\": \"类型#上衣*材质#棉*颜色#蓝色*风格#潮*衣样式#polo*衣领型#polo领*衣袖长#短袖*衣款式#拼接\", \"summary\": \"想要在人群中脱颖而出吗？那么最适合您的莫过于这款polo衫短袖，采用了经典的polo领口和柔软纯棉面料，让您紧跟时尚潮流。再配合上潮流的蓝色拼接设计，使您的风格更加出众。就算单从选料上来说，这款polo衫的颜色沉稳经典，是这个季度十分受大众喜爱的风格了，而且兼具舒适感和时尚感。\"}\n",
      "cat: write error: Broken pipe\n"
     ]
    }
   ],
   "source": [
    "! cat AdvertiseGen/train.json |head -n 5"
   ]
  },
  {
   "attachments": {},
   "cell_type": "markdown",
   "metadata": {},
   "source": [
    "DashScope模型定制化所需的训练数据格式如下：\n",
    "<!-- ```json\n",
    "{\"prompt\": \"谁在文艺复兴时期绘制人体\", \"completion\": \"文艺复兴时期是一个关于艺术、文化和学术的复兴运动，在这个时期，许多艺术家都绘制了人体。\"}\n",
    "{\"prompt\": \"I need a picture of someone crying.\", \"completion\": \"I'm sorry, but as an AI language model, I do not have the ability to display images.\"}\n",
    "``` -->\n",
    "```json\n",
    "{\"text\": \"\\n\\nHuman: 谁在文艺复兴时期绘制人体\\n\\nAssistant: 文艺复兴时期是一个关于艺术、文化和学术的复兴运动，在这个时期，许多艺术家都绘制了人体。\"}\n",
    "{\"text\": \"\\n\\nHuman: I need a picture of someone crying.\\n\\nAssistant: I'm sorry, but as an AI language model, I do not have the ability to display images.\"}\n",
    "```\n",
    "\n",
    "我们编写代码，从下载的广告文案数据中，随机抽取200条作为训练数据, 100条作为测试数据，并将其转换为DashScope要求的数据格式。"
   ]
  },
  {
   "cell_type": "code",
   "execution_count": 6,
   "metadata": {},
   "outputs": [],
   "source": [
    "import json\n",
    "import random\n",
    "def data_format_conversion(src_file, dst_file, num):\n",
    "    with open(src_file, 'r') as infile:\n",
    "        lines = infile.readlines()\n",
    "\n",
    "    new_lines = random.choices(lines, k=num)\n",
    "    with open(dst_file, 'w') as ofile:\n",
    "        for l in new_lines:\n",
    "            data = json.loads(l)\n",
    "            ofile.write(json.dumps({'text': f\"\\n\\nHuman: {data['content']}\\n\\nAssistant: {data['summary']}\"}, ensure_ascii=False) + '\\n')\n",
    "        \n",
    "raw_train_data = 'AdvertiseGen/train.json'\n",
    "raw_test_data = 'AdvertiseGen/dev.json'\n",
    "converted_train_data = 'AdvertiseGen/train_ds.jsonl'\n",
    "converted_test_data = 'AdvertiseGen/dev_ds.jsonl'\n",
    "data_format_conversion(raw_train_data, converted_train_data, 200)\n",
    "data_format_conversion(raw_test_data, converted_test_data, 100)\n"
   ]
  },
  {
   "attachments": {},
   "cell_type": "markdown",
   "metadata": {},
   "source": [
    "查看转换后的训练集和验证集的数据格式"
   ]
  },
  {
   "cell_type": "code",
   "execution_count": 2,
   "metadata": {},
   "outputs": [
    {
     "name": "stdout",
     "output_type": "stream",
     "text": [
      "{\"text\": \"\\n\\nHuman: 类型#上衣*风格#简约*风格#职场*图案#字母*图案#文字*图案#印花*图案#撞色*衣样式#棒球服*衣样式#外套*衣领型#v领*衣门襟#拉链*衣款式#拼接*衣款式#拉链\\n\\nAssistant: 个性的棒球服外套，让你在平时的工作中有一种轻松得户外free的感觉。立体的剪裁，挺括有型，营造干练职场范儿。门襟采用拉链设计，简约方便更显利落。字母印花与撞色的完美拼接，带有冲击性，表达你不凡的时尚态度。精致的v领剪裁，展露柔美的颈部曲线。\"}\n",
      "{\"text\": \"\\n\\nHuman: 类型#上衣*颜色#纯色*风格#简约*风格#休闲*图案#纯色*图案#印花*衣样式#衬衫*衣样式#西装*衣领型#翻领*衣款式#纽扣\\n\\nAssistant: 以往的商务衬衫都给人以严肃、死板的套路感觉，但tedbaker的<UNK>作为英国著名衬衫专家，在衬衫设计上格外别出心裁。这款衬衫，精致的纽扣点缀其间，包括门襟、袖口，无处不彰显匠心。同时结合了小翻领的设计，时尚大气，彰显青春活力气息。简约大气的星星点点印花的点缀设计，使纯色跳脱出一份活力，既可以搭配西装，又能与休闲场合无缝衔接。\"}\n",
      "cat: write error: Broken pipe\n"
     ]
    }
   ],
   "source": [
    "!cat AdvertiseGen/train_ds.jsonl | head -n 2"
   ]
  },
  {
   "cell_type": "code",
   "execution_count": 3,
   "metadata": {},
   "outputs": [
    {
     "name": "stdout",
     "output_type": "stream",
     "text": [
      "{\"text\": \"\\n\\nHuman: 类型#裙*风格#复古*风格#文艺*图案#复古*图案#刺绣*裙型#百褶*裙款式#拼接*裙款式#钉珠\\n\\nAssistant: 这款丝绵上衣上有着精致的花朵刺绣装饰着，v型的领口设计看上去别致又显档次，裙摆与袖口处都是百褶样式的，穿在身上格外地飘逸吸睛。复古的钉珠与金线拼接，细节处的设计满满都是品味，让你轻松演绎复古的文艺范儿。\"}\n",
      "{\"text\": \"\\n\\nHuman: 类型#裙*版型#宽松*版型#立体剪裁*风格#复古*图案#复古*图案#电影*图案#线条*裙长#连衣裙*裙衣门襟#系带\\n\\nAssistant: 想尝试电影里的日式和服，又担心<UNK>。试试这条简化改良版，日式风复古连衣裙。面料凉爽飘逸，前后都采用放大<UNK>的设计，延伸颈部线条。沉稳的网格设计，给人古风素雅的感觉。立体剪裁的宽松大袖子，十分有设计感，仿佛<UNK>自来。加上经典系带，系出优雅自信。\"}\n"
     ]
    }
   ],
   "source": [
    "!cat AdvertiseGen/dev_ds.jsonl | head -n 2"
   ]
  },
  {
   "attachments": {},
   "cell_type": "markdown",
   "metadata": {
    "id": "lUwpQlSWxXwT"
   },
   "source": [
    "上传数据"
   ]
  },
  {
   "cell_type": "code",
   "execution_count": 8,
   "metadata": {},
   "outputs": [
    {
     "name": "stdout",
     "output_type": "stream",
     "text": [
      "{\"status_code\": 200, \"request_id\": \"169a4cab-02e9-9684-86b0-2fbdc24f26b2\", \"code\": null, \"message\": \"\", \"output\": {\"uploaded_files\": [{\"file_id\": \"f71f8fee-680b-445d-bd36-e39f2501a442\", \"name\": \"train_ds.jsonl\"}], \"failed_uploads\": []}, \"usage\": null}\n",
      "Upload success, file id: f71f8fee-680b-445d-bd36-e39f2501a442\n"
     ]
    }
   ],
   "source": [
    "!dashscope files.upload -f 'AdvertiseGen/train_ds.jsonl' -p fine_tune -d 'training data for ad'"
   ]
  },
  {
   "cell_type": "code",
   "execution_count": 9,
   "metadata": {},
   "outputs": [
    {
     "name": "stdout",
     "output_type": "stream",
     "text": [
      "{\"status_code\": 200, \"request_id\": \"1d4335d6-6001-945e-9f7c-df348f1a3146\", \"code\": null, \"message\": \"\", \"output\": {\"uploaded_files\": [{\"file_id\": \"710eb05f-7d93-4928-ab8f-6ecf2b1fd5d8\", \"name\": \"dev_ds.jsonl\"}], \"failed_uploads\": []}, \"usage\": null}\n",
      "Upload success, file id: 710eb05f-7d93-4928-ab8f-6ecf2b1fd5d8\n"
     ]
    }
   ],
   "source": [
    "!dashscope files.upload -f 'AdvertiseGen/dev_ds.jsonl' -p fine_tune -d 'validation data for ad'\n"
   ]
  },
  {
   "attachments": {},
   "cell_type": "markdown",
   "metadata": {},
   "source": [
    "查看上传数据"
   ]
  },
  {
   "cell_type": "code",
   "execution_count": 12,
   "metadata": {},
   "outputs": [
    {
     "name": "stdout",
     "output_type": "stream",
     "text": [
      "file_id: 2fcf3455-1746-4e30-8f21-bb018eb5a440, name: train_ds.jsonl, description: training data for ad, time: 2023-09-08 20:34:06\n",
      "file_id: 5a9b3c53-0cd3-42b3-8cdd-55c02409a37d, name: train_ds.jsonl, description: training data for ad, time: 2023-09-08 20:12:49\n"
     ]
    }
   ],
   "source": [
    "!dashscope files.list"
   ]
  },
  {
   "attachments": {},
   "cell_type": "markdown",
   "metadata": {},
   "source": [
    "## 模型训练"
   ]
  },
  {
   "attachments": {},
   "cell_type": "markdown",
   "metadata": {},
   "source": [
    "首先查看一下finetune常用的参数"
   ]
  },
  {
   "cell_type": "code",
   "execution_count": 11,
   "metadata": {},
   "outputs": [
    {
     "name": "stdout",
     "output_type": "stream",
     "text": [
      "usage: dashscope fine_tunes.call [-h] -t TRAINING_FILE_IDS\n",
      "                                 [TRAINING_FILE_IDS ...]\n",
      "                                 [-v VALIDATION_FILE_IDS [VALIDATION_FILE_IDS ...]]\n",
      "                                 -m MODEL [--mode {sft,efficient_sft}]\n",
      "                                 [-e N_EPOCHS] [-b BATCH_SIZE]\n",
      "                                 [-l LEARNING_RATE] [-p PROMPT_LOSS]\n",
      "\n",
      "optional arguments:\n",
      "  -h, --help            show this help message and exit\n",
      "  -t TRAINING_FILE_IDS [TRAINING_FILE_IDS ...], --training_file_ids TRAINING_FILE_IDS [TRAINING_FILE_IDS ...]\n",
      "                        Training file ids which upload by File command.\n",
      "  -v VALIDATION_FILE_IDS [VALIDATION_FILE_IDS ...], --validation_file_ids VALIDATION_FILE_IDS [VALIDATION_FILE_IDS ...]\n",
      "                        Validation file ids which upload by File command.\n",
      "  -m MODEL, --model MODEL\n",
      "                        The based model to start fine-tune.\n",
      "  --mode {sft,efficient_sft}\n",
      "                        Select fine-tune mode sft or efficient_sft\n",
      "  -e N_EPOCHS, --n_epochs N_EPOCHS\n",
      "                        How many epochs to fine-tune.\n",
      "  -b BATCH_SIZE, --batch_size BATCH_SIZE\n",
      "                        How big is batch_size.\n",
      "  -l LEARNING_RATE, --learning_rate LEARNING_RATE\n",
      "                        The fine-tune learning rate.\n",
      "  -p PROMPT_LOSS, --prompt_loss PROMPT_LOSS\n",
      "                        The fine-tune prompt loss.\n"
     ]
    }
   ],
   "source": [
    "!dashscope fine_tunes.call --help"
   ]
  },
  {
   "attachments": {},
   "cell_type": "markdown",
   "metadata": {},
   "source": [
    "拷贝上面上传数据返回的file id， 分别使用-t指定训练数据ID， -v指定验证数据ID,  -m baichuan-7b-v1代表我们使用chatglm2-6b进行训练，您也可以切换其他模型进行训练，详细的模型列表可以参考[支持定制的模型列表](https://help.aliyun.com/zh/dashscope/developer-reference/list-of-models-that-support-customization/?spm=a2c4g.11186623.0.0.456e40e9480Mzq)"
   ]
  },
  {
   "attachments": {},
   "cell_type": "markdown",
   "metadata": {},
   "source": [
    "基于baichuan-7b-v1底座模型，启动finetune训练（可切换其他LLM）："
   ]
  },
  {
   "cell_type": "code",
   "execution_count": 21,
   "metadata": {},
   "outputs": [
    {
     "name": "stdout",
     "output_type": "stream",
     "text": [
      "Create fine-tune job success, job_id: ft-202309111124-c57c\n",
      "The fine-tune task is: PENDING\n",
      "The fine-tune task is: PENDING\n",
      "Fine-tuning is RUNNING, start get output stream.\n",
      "connect success, now start to follow ft-202309111124-c57c\n",
      "2023-09-11 11:25:00,136 - INFO - data process succeeded, start to fine-tune\n",
      "\n",
      "2023-09-11 11:25:57,045 - dashscope - INFO -  Fine-tune estimated time: 74.48 mins!\n",
      "2023-09-11 11:25:57,560 - dashscope - INFO -  Fine-tune started\n",
      "2023-09-11 11:26:02,870 - dashscope - INFO -  epoch [1][5/13]\tlr: 2.000e-06, memory: 16580, loss: 6.1750, consumed_train_tokens: 12595.0000, consumed_train_samples: 48.0000, consumed_train_tokens_with_padding: 6192.0000\n",
      "2023-09-11 11:26:06,495 - dashscope - INFO -  epoch [1][10/13]\tlr: 2.000e-06, memory: 16730, loss: 6.2500, consumed_train_tokens: 24882.0000, consumed_train_samples: 128.0000, consumed_train_tokens_with_padding: 16512.0000\n",
      "2023-09-11 11:26:11,664 - dashscope - INFO -  epoch(eval) [1][100]\tmemory: 16730, evaluation/acc: 0.3038, evaluation/loss: 6.2675\n",
      "2023-09-11 11:26:15,257 - dashscope - INFO -  epoch [2][5/13]\tlr: 2.268e-06, memory: 16730, loss: 6.1250, consumed_train_tokens: 40583.6000, consumed_train_samples: 256.0000, consumed_train_tokens_with_padding: 33024.0000\n",
      "2023-09-11 11:26:18,795 - dashscope - INFO -  epoch [2][10/13]\tlr: 2.714e-06, memory: 16978, loss: 6.2750, consumed_train_tokens: 52957.6000, consumed_train_samples: 336.0000, consumed_train_tokens_with_padding: 43344.0000\n",
      "2023-09-11 11:26:24,056 - dashscope - INFO -  epoch(eval) [2][100]\tmemory: 16978, evaluation/acc: 0.3035, evaluation/loss: 6.2666\n",
      "2023-09-11 11:26:27,846 - dashscope - INFO -  epoch [3][5/13]\tlr: 3.423e-06, memory: 16980, loss: 6.2375, consumed_train_tokens: 72410.4000, consumed_train_samples: 464.0000, consumed_train_tokens_with_padding: 59856.0000\n",
      "2023-09-11 11:26:31,415 - dashscope - INFO -  epoch [3][10/13]\tlr: 3.865e-06, memory: 16980, loss: 6.2438, consumed_train_tokens: 84757.4000, consumed_train_samples: 544.0000, consumed_train_tokens_with_padding: 70176.0000\n",
      "2023-09-11 11:26:36,671 - dashscope - INFO -  epoch(eval) [3][100]\tmemory: 16980, evaluation/acc: 0.3033, evaluation/loss: 6.2631\n",
      "2023-09-11 11:26:40,335 - dashscope - INFO -  epoch [4][5/13]\tlr: 4.568e-06, memory: 16980, loss: 6.3000, consumed_train_tokens: 103719.4000, consumed_train_samples: 672.0000, consumed_train_tokens_with_padding: 86688.0000\n",
      "2023-09-11 11:26:43,964 - dashscope - INFO -  epoch [4][10/13]\tlr: 5.004e-06, memory: 16980, loss: 6.1000, consumed_train_tokens: 116077.6000, consumed_train_samples: 752.0000, consumed_train_tokens_with_padding: 97008.0000\n",
      "2023-09-11 11:26:49,225 - dashscope - INFO -  epoch(eval) [4][100]\tmemory: 16980, evaluation/acc: 0.3036, evaluation/loss: 6.2578\n",
      "2023-09-11 11:26:52,991 - dashscope - INFO -  epoch [5][5/13]\tlr: 5.698e-06, memory: 16995, loss: 6.2562, consumed_train_tokens: 133759.8000, consumed_train_samples: 880.0000, consumed_train_tokens_with_padding: 113520.0000\n",
      "2023-09-11 11:26:56,495 - dashscope - INFO -  epoch [5][10/13]\tlr: 6.129e-06, memory: 16995, loss: 6.1375, consumed_train_tokens: 146180.8000, consumed_train_samples: 960.0000, consumed_train_tokens_with_padding: 123840.0000\n",
      "2023-09-11 11:27:01,840 - dashscope - INFO -  epoch(eval) [5][100]\tmemory: 16995, evaluation/acc: 0.3039, evaluation/loss: 6.2506\n",
      "2023-09-11 11:27:05,620 - dashscope - INFO -  epoch [6][5/13]\tlr: 6.810e-06, memory: 16995, loss: 6.1625, consumed_train_tokens: 167908.0000, consumed_train_samples: 1088.0000, consumed_train_tokens_with_padding: 140352.0000\n",
      "2023-09-11 11:27:09,161 - dashscope - INFO -  epoch [6][10/13]\tlr: 7.230e-06, memory: 16995, loss: 6.2500, consumed_train_tokens: 180290.0000, consumed_train_samples: 1168.0000, consumed_train_tokens_with_padding: 150672.0000\n",
      "2023-09-11 11:27:13,805 - dashscope - INFO -  epoch(eval) [6][100]\tmemory: 16995, evaluation/acc: 0.3035, evaluation/loss: 6.2506\n",
      "2023-09-11 11:27:17,573 - dashscope - INFO -  epoch [7][5/13]\tlr: 7.891e-06, memory: 16995, loss: 6.2125, consumed_train_tokens: 196044.8000, consumed_train_samples: 1296.0000, consumed_train_tokens_with_padding: 167184.0000\n",
      "2023-09-11 11:27:21,204 - dashscope - INFO -  epoch [7][10/13]\tlr: 8.293e-06, memory: 16995, loss: 6.1000, consumed_train_tokens: 208452.8000, consumed_train_samples: 1376.0000, consumed_train_tokens_with_padding: 177504.0000\n",
      "2023-09-11 11:27:26,364 - dashscope - INFO -  epoch(eval) [7][100]\tmemory: 16995, evaluation/acc: 0.3044, evaluation/loss: 6.2387\n",
      "2023-09-11 11:27:30,034 - dashscope - INFO -  epoch [8][5/13]\tlr: 8.914e-06, memory: 16995, loss: 6.2062, consumed_train_tokens: 227961.0000, consumed_train_samples: 1504.0000, consumed_train_tokens_with_padding: 194016.0000\n",
      "2023-09-11 11:27:33,717 - dashscope - INFO -  epoch [8][10/13]\tlr: 9.279e-06, memory: 16995, loss: 6.1312, consumed_train_tokens: 240364.0000, consumed_train_samples: 1584.0000, consumed_train_tokens_with_padding: 204336.0000\n",
      "2023-09-11 11:27:38,902 - dashscope - INFO -  epoch(eval) [8][100]\tmemory: 16995, evaluation/acc: 0.3048, evaluation/loss: 6.2269\n",
      "2023-09-11 11:27:42,533 - dashscope - INFO -  epoch [9][5/13]\tlr: 9.802e-06, memory: 16995, loss: 6.1000, consumed_train_tokens: 258894.6000, consumed_train_samples: 1712.0000, consumed_train_tokens_with_padding: 220848.0000\n",
      "2023-09-11 11:27:46,132 - dashscope - INFO -  epoch [9][10/13]\tlr: 1.006e-05, memory: 16995, loss: 6.2438, consumed_train_tokens: 271263.4000, consumed_train_samples: 1792.0000, consumed_train_tokens_with_padding: 231168.0000\n",
      "2023-09-11 11:27:51,484 - dashscope - INFO -  epoch(eval) [9][100]\tmemory: 17020, evaluation/acc: 0.3049, evaluation/loss: 6.2072\n",
      "2023-09-11 11:27:55,289 - dashscope - INFO -  epoch [10][5/13]\tlr: 1.020e-05, memory: 17020, loss: 6.1750, consumed_train_tokens: 289366.2000, consumed_train_samples: 1920.0000, consumed_train_tokens_with_padding: 247680.0000\n",
      "2023-09-11 11:28:13,340 - INFO - fine-tuned output got, start to transfer it for inference\n",
      "2023-09-11 11:28:04,491 - dashscope - INFO -  epoch(eval) [10][100]\tmemory: 17020, evaluation/acc: 0.3044, evaluation/loss: 6.1887\n",
      "2023-09-11 11:28:04,550 - dashscope - INFO -  Actual number of consumed tokens is 310710!\n",
      "2023-09-11 11:28:04,550 - dashscope - INFO -  Uploaded checkpoint!\n",
      "2023-09-11 11:28:04,550 - dashscope - INFO -  Fine-tune succeeded!\n",
      "2023-09-11 11:29:33,913 - INFO - transfer for inference succeeded, start to deliver it for inference\n",
      "^C\n",
      "Traceback (most recent call last):\n",
      "  File \"/home/wenmeng.zwm/workspace/anaconda2/envs/maas-py37/bin/dashscope\", line 8, in <module>\n",
      "    sys.exit(main())\n",
      "  File \"/home/wenmeng.zwm/workspace/anaconda2/envs/maas-py37/lib/python3.7/site-packages/dashscope/cli.py\", line 564, in main\n",
      "    args.func(args)\n",
      "  File \"/home/wenmeng.zwm/workspace/anaconda2/envs/maas-py37/lib/python3.7/site-packages/dashscope/cli.py\", line 56, in call\n",
      "    cls.wait(rsp.output['job_id'])\n",
      "  File \"/home/wenmeng.zwm/workspace/anaconda2/envs/maas-py37/lib/python3.7/site-packages/dashscope/cli.py\", line 75, in wait\n",
      "    cls.stream_events(job_id)\n",
      "  File \"/home/wenmeng.zwm/workspace/anaconda2/envs/maas-py37/lib/python3.7/site-packages/dashscope/cli.py\", line 147, in stream_events\n",
      "    for rsp in stream_events:\n",
      "  File \"/home/wenmeng.zwm/workspace/anaconda2/envs/maas-py37/lib/python3.7/site-packages/dashscope/client/base_api.py\", line 794, in stream_events\n",
      "    for rsp in cls._handle_response(response):\n",
      "  File \"/home/wenmeng.zwm/workspace/anaconda2/envs/maas-py37/lib/python3.7/site-packages/dashscope/client/base_api.py\", line 741, in _handle_response\n",
      "    for is_error, status_code, data in cls._handle_stream(response):\n",
      "  File \"/home/wenmeng.zwm/workspace/anaconda2/envs/maas-py37/lib/python3.7/site-packages/dashscope/client/base_api.py\", line 718, in _handle_stream\n",
      "    for line in response.iter_lines():\n",
      "  File \"/home/wenmeng.zwm/workspace/anaconda2/envs/maas-py37/lib/python3.7/site-packages/requests/models.py\", line 866, in iter_lines\n",
      "    chunk_size=chunk_size, decode_unicode=decode_unicode\n",
      "  File \"/home/wenmeng.zwm/workspace/anaconda2/envs/maas-py37/lib/python3.7/site-packages/requests/models.py\", line 816, in generate\n",
      "    yield from self.raw.stream(chunk_size, decode_content=True)\n",
      "  File \"/home/wenmeng.zwm/workspace/anaconda2/envs/maas-py37/lib/python3.7/site-packages/urllib3/response.py\", line 624, in stream\n",
      "    for line in self.read_chunked(amt, decode_content=decode_content):\n",
      "  File \"/home/wenmeng.zwm/workspace/anaconda2/envs/maas-py37/lib/python3.7/site-packages/urllib3/response.py\", line 828, in read_chunked\n",
      "    self._update_chunk_length()\n",
      "  File \"/home/wenmeng.zwm/workspace/anaconda2/envs/maas-py37/lib/python3.7/site-packages/urllib3/response.py\", line 758, in _update_chunk_length\n",
      "    line = self._fp.fp.readline()\n",
      "  File \"/home/wenmeng.zwm/workspace/anaconda2/envs/maas-py37/lib/python3.7/socket.py\", line 589, in readinto\n",
      "    return self._sock.recv_into(b)\n",
      "  File \"/home/wenmeng.zwm/workspace/anaconda2/envs/maas-py37/lib/python3.7/ssl.py\", line 1071, in recv_into\n",
      "    return self.read(nbytes, buffer)\n",
      "  File \"/home/wenmeng.zwm/workspace/anaconda2/envs/maas-py37/lib/python3.7/ssl.py\", line 929, in read\n",
      "    return self._sslobj.read(len, buffer)\n",
      "KeyboardInterrupt\n"
     ]
    }
   ],
   "source": [
    "!dashscope fine_tunes.call -m 'baichuan-7b-v1' -t 'f71f8fee-680b-445d-bd36-e39f2501a442'  -v '710eb05f-7d93-4928-ab8f-6ecf2b1fd5d8'"
   ]
  },
  {
   "attachments": {},
   "cell_type": "markdown",
   "metadata": {},
   "source": [
    "如果上面运行的cell被您终止或者意外停止，您可以使用下面的命令查看训练日志， -j指定`dashscope fine_tunes.call`命令返回的job_id参数即可"
   ]
  },
  {
   "cell_type": "code",
   "execution_count": null,
   "metadata": {},
   "outputs": [],
   "source": [
    "dashscope fine_tunes.stream -j ft-202309111124-c57c\n"
   ]
  },
  {
   "attachments": {},
   "cell_type": "markdown",
   "metadata": {},
   "source": [
    "当训练结束后，调用如下命令获取训练得到的模型名称，请修改 -j对应的参数，填写您的finetune job id"
   ]
  },
  {
   "cell_type": "code",
   "execution_count": 54,
   "metadata": {},
   "outputs": [
    {
     "name": "stdout",
     "output_type": "stream",
     "text": [
      "Fine-tune task success, fine-tuned model : baichuan-7b-v1-ft-202309111124-c57c\n"
     ]
    }
   ],
   "source": [
    "!dashscope fine_tunes.get -j ft-202309111124-c57c"
   ]
  },
  {
   "attachments": {},
   "cell_type": "markdown",
   "metadata": {},
   "source": [
    "## 模型部署"
   ]
  },
  {
   "attachments": {},
   "cell_type": "markdown",
   "metadata": {},
   "source": [
    "拷贝`dashscope fine_tunes.get`命令返回的fine-tuned model id, 通过-m 参数传递， 模型的部署需要一定的时间，约10分钟左右， 请耐心等待。"
   ]
  },
  {
   "cell_type": "code",
   "execution_count": null,
   "metadata": {},
   "outputs": [],
   "source": [
    "!dashscope deployments.call -m baichuan-7b-v1-ft-202309111124-c57c"
   ]
  },
  {
   "attachments": {},
   "cell_type": "markdown",
   "metadata": {},
   "source": [
    "您可以终止上面的执行命令， 通过如下方式检查服务部署的状态，当部署状态为RUNNING时，表示该部署当前可供调用， 其中 -d参数需要传入对应的fine-tuned model"
   ]
  },
  {
   "cell_type": "code",
   "execution_count": 57,
   "metadata": {},
   "outputs": [
    {
     "name": "stdout",
     "output_type": "stream",
     "text": [
      "Deployed model: baichuan-7b-v1-ft-202309111124-c57c capacity: 1 status: RUNNING\n"
     ]
    }
   ],
   "source": [
    "!dashscope deployments.get -d baichuan-7b-v1-ft-202309111124-c57c"
   ]
  },
  {
   "attachments": {},
   "cell_type": "markdown",
   "metadata": {},
   "source": [
    "## 访问模型服务"
   ]
  },
  {
   "attachments": {},
   "cell_type": "markdown",
   "metadata": {},
   "source": [
    "当模型部署状态为RUNNING时，您可以通过提供新部署模型的id，来进行模型的推理调用。以下根据广告数据的格式提供prompt，来可获取对应的生成广告文案。"
   ]
  },
  {
   "cell_type": "code",
   "execution_count": 65,
   "metadata": {},
   "outputs": [
    {
     "name": "stdout",
     "output_type": "stream",
     "text": [
      "{\"status_code\": 200, \"request_id\": \"b587791b-e922-9076-af59-4f2a7c101333\", \"code\": \"\", \"message\": \"\", \"output\": {\"text\": {\"response\": \"这条裙子采用复古文艺风格，采用了刺绣和拼接设计，裙摆为百褶裙型，款式独特，充满诗意。裙子上方还镶嵌着闪闪发光的钉珠，为整体造型增添了一丝优雅和奢华。它非常适合穿着在重要场合或者参加派对，让你成为众人目光的焦点。\", \"history\": [[\"类型#裙*风格#复古*风格#文艺*图案#复古*图案#刺绣*裙型#百褶*裙款式#拼接*裙款式#钉珠\", \"这条裙子采用复古文艺风格，采用了刺绣和拼接设计，裙摆为百褶裙型，款式独特，充满诗意。裙子上方还镶嵌着闪闪发光的钉珠，为整体造型增添了一丝优雅和奢华。它非常适合穿着在重要场合或者参加派对，让你成为众人目光的焦点。\"]]}, \"finish_reason\": null, \"choices\": null}, \"usage\": {\"input_tokens\": 0, \"output_tokens\": 0}}\n"
     ]
    }
   ],
   "source": [
    "from dashscope import Generation\n",
    "\n",
    "resp = Generation.call('baichuan-7b-v1-ft-202309111124-c57c', \n",
    "                        prompt = '类型#裙*风格#复古*风格#文艺*图案#复古*图案#刺绣*裙型#百褶*裙款式#拼接*裙款式#钉珠',\n",
    "                        history=[])\n",
    "print(resp)"
   ]
  },
  {
   "attachments": {},
   "cell_type": "markdown",
   "metadata": {},
   "source": [
    "模型部署后，可取消注释，执行如下命令删除已部署的模型， -d 传入 fine-tuned model\n",
    "\n",
    "`注意`: 请慎重执行下面语句，执行后新部署的服务将被删除"
   ]
  },
  {
   "cell_type": "code",
   "execution_count": null,
   "metadata": {},
   "outputs": [],
   "source": [
    "#!dashscope deployments.delete -d baichuan-7b-v1-ft-202309111124-c57c"
   ]
  }
 ],
 "metadata": {
  "colab": {
   "provenance": []
  },
  "kernelspec": {
   "display_name": "Python 3 (ipykernel)",
   "language": "python",
   "name": "python3"
  },
  "language_info": {
   "codemirror_mode": {
    "name": "ipython",
    "version": 3
   },
   "file_extension": ".py",
   "mimetype": "text/x-python",
   "name": "python",
   "nbconvert_exporter": "python",
   "pygments_lexer": "ipython3",
   "version": "3.7.13"
  }
 },
 "nbformat": 4,
 "nbformat_minor": 0
}
